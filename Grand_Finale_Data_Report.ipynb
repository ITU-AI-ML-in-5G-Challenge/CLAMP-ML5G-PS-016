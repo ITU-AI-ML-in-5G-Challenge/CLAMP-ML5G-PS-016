{
  "nbformat": 4,
  "nbformat_minor": 0,
  "metadata": {
    "colab": {
      "name": "Grand Finale Data Report.ipynb",
      "provenance": [],
      "collapsed_sections": [
        "2QH5SEwctitd"
      ]
    },
    "kernelspec": {
      "name": "python3",
      "display_name": "Python 3"
    },
    "language_info": {
      "name": "python"
    }
  },
  "cells": [
    {
      "cell_type": "markdown",
      "metadata": {
        "id": "F05KNxHOnFVh"
      },
      "source": [
        "# Location estimation using RSSI of wireless LAN\n",
        "\n",
        "---\n",
        "\n",
        "\n",
        "## Team C-LAMP\n",
        "\n",
        "### Team Members\n",
        "\n",
        "| Name                  | Designation               | Organisation                                                     |Email   |\n",
        "| -------------         | -------------             | -------------                                                    |--------|\n",
        "| Mr. Suresh V          | Associate Director        |CDAC Pune                                                         |sureshv@cdac.in|\n",
        "| Mr. Anil Kumar Gupta  | Associate Director        |CDAC Pune                                                         |anilg@cdac.in|\n",
        "| Ms. Irene S.          | Joint Director            |CDAC Chennai                                                      |irenes@cdac.in|\n",
        "| Mr. Pradeep Kumar CH  | Senior Technical Officer  |CDAC Pune                                                         |chpradeep@cdac.in|\n",
        "| Mr. Chirantan Ganguly | CDAC Research Intern      |Institute of Radio Physics and Electronics, University of Calcutta|chirantanganguly01@gmail.com|\n",
        "| Mr. Sagnik Nayak      | CDAC Research Intern      |Institute of Radio Physics and Electronics, University of Calcutta|sagniknayak2608@gmail.com|\n"
      ]
    },
    {
      "cell_type": "markdown",
      "metadata": {
        "id": "gn5741sbnOuY"
      },
      "source": [
        "## Introduction\n",
        "\n",
        "In this project, our aim is to build a model to predict location of nodes based on RSSI readings from Access Points. The data for the project was provided by RISING, Japan for the problem ITU-ML5G-PS-016: Location estimation using RSSI of wireless LAN - organied as a part of the \"ITU AI/ML in 5G Challenge: applying machine learning in communication networks\". \n",
        "\n",
        "This project is divided into the following phases: \n",
        "\n",
        "- Phase 1: Emphasis is given on data preprocessing and exploration ,which will be covered in this report. Following this  the data and its attributes are described. Following this data preprocessing and transformation is done to efficiently fit the developed models. \n",
        "- Phase 2: Prediction model building is covered in this phase of the project."
      ]
    },
    {
      "cell_type": "markdown",
      "metadata": {
        "id": "hhV8I_ROVwsW"
      },
      "source": [
        "##Background about RSSI\n",
        "\n",
        "- RSSI is ten times the logarithm of the ratio of power of the received signal and a reference power.\n",
        "\n",
        "- Power dissipates from a point source as it moves further out and the relationship between power and distance is that power is inversely proportional to the square of the distance travelled.\n",
        "\n",
        "- A direct theoretical relationship exist between  RSSI and distance:\n",
        "\n",
        "![picture](https://drive.google.com/uc?export=view&id=12XO_0vM6vPGa6agCAS1LZz9pKcncC2Qo)\n",
        "- With the distance of an unknown point known from a set of known points, its location can be estimated.\n",
        "\n",
        "- RSSI based technique is especially popular among researchers as it is readily available and no extra hardware is required."
      ]
    },
    {
      "cell_type": "markdown",
      "metadata": {
        "id": "OHZ0GUn7XVq1"
      },
      "source": [
        "##Established Localization Techniques\n",
        "### Multilateration:\n",
        "\n",
        "If we can calculate the distance of a point from a set of 3 or more points whose location is known, we can localize the unknown point.\n",
        "\n",
        "In our scenario we have the following known parameters:\n",
        "- Location of the four APs (xi ,yi)\n",
        "- RSSI value measured at AP\n",
        "\n",
        "The following parameters are unknown and we must figure them out to undertake localization:\n",
        "- Distance of the RP from each AP (di)\n",
        "- Location of the RP (x,y)\n",
        "\n",
        "#### Distance measurement from RSSI:\n",
        "\n",
        "![picture](https://drive.google.com/uc?export=view&id=16ecbVE7V268iBYHac_lqeXCmqJ7h_PyV)\n",
        "\n",
        "As RSSI conveys information about strength of received signal, a relationship exists between RSSI and distance.\n",
        "\n",
        "![picture](https://drive.google.com/uc?export=view&id=1XYuJUX8YZ5vXUk4yKh9xPSBUcUGzR2Ml)\n",
        "\n",
        "n – Path loss Index (depends on Transmission environment)\n",
        "\n",
        "A - Average measured RSSI when the AP is 1 meter away from RP\n",
        "\n",
        "n, A can be found by proper experimentation in the environment.\n",
        "\n",
        "\n",
        "### RSSI Fingerprinting:\n",
        "\n",
        "In this method we directly estimate the location of the reference point without calculating its distance from the access point.\n",
        "\n",
        "#### Precondition for using Fingerprinting:\n",
        "Presence of large number of Reference Points in the \n",
        "training dataset, uniformly spread throughout the area.\n",
        "\n",
        "![picture](https://drive.google.com/uc?export=view&id=1NYhib1j62fNa1BX2s_KLrywh8pjZmg_u)\n",
        "\n",
        "#### Algorithms used for fingerprinting technique:\n",
        "  k-Nearest Neighbour.\n",
        "\n",
        "#### Advantages of using fingerprinting technique:\n",
        "High Accuracy in localization.\n",
        "\n",
        "#### Disadvantages of using fingerprinting technique:\n",
        "- Thorough Training phase required.\n",
        "- Sensitive to changes in Environment"
      ]
    },
    {
      "cell_type": "markdown",
      "metadata": {
        "id": "nEH1lZBenWDf"
      },
      "source": [
        "##Dataset\n",
        "\n",
        "The provided data sets consist of the following files:\n",
        "\n",
        "1. AP_info.csv: CSV file providing the location (Latitude, Longitude) and environmental specification for a set of 4 access points (hereby referred to as APs).\n",
        "2. training_dataset.csv: CSV file providing us with the data acquired from four APs to be used for training the model. \n",
        "    \n",
        "    Data includes :\n",
        "    - TimeStamp(UNIX)\t\n",
        "    - Latitude\tof Reference Point\n",
        "    - Longitude\tof Reference Point\n",
        "    - SSID of Access Point\n",
        "    - Channel\t\n",
        "    - RSSI(dBm)\n",
        "\n",
        "  Data from 13 unique reference points are present in this dataset.\n",
        "\n",
        "3. verification_dataset.csv: CSV file providing us with the data acquired from the four APs to be used for testing the model. \n",
        "    \n",
        "    Data includes :\n",
        "    - TimeStamp(UNIX)\t\n",
        "    - Latitude\tof Reference Point\n",
        "    - Longitude\tof Reference Point\n",
        "    - SSID of Access Point\n",
        "    - Channel\t\n",
        "    - RSSI(dBm)\n",
        "\n",
        "  Data from 13 unique reference points are present in this dataset.\n",
        "\n",
        "The data in the datasets training_dataset.csv and  verification_dataset.csv have been collected from the same set of 4 APs at identical location.\n",
        "\n",
        "The data set also contains a timestamp on when the RSSI readings of the 4 APs was made. The each data set has 5200 observations.\n",
        "\n",
        "A map of the reference and the access points was provided with the dataset, as shown below:\n",
        "\n",
        "![picture](https://drive.google.com/uc?export=view&id=1UoF4iMbTNJ_323xPSADQPs_qTEKl5nSm)\n"
      ]
    },
    {
      "cell_type": "markdown",
      "metadata": {
        "id": "TfP8SRWko9Kt"
      },
      "source": [
        "##Data Pre-processing\n",
        "\n",
        "### Preliminaries\n",
        "\n",
        "The following Python packages were used in this project.\n",
        "\n",
        "```\n",
        "import numpy\n",
        "import pandas \n",
        "import tensorflow \n",
        "from sklearn.preprocessing import MinMaxScaler\n",
        "from sklearn.model_selection import train_test_split\n",
        "from matplotlib import pyplot as plt\n",
        "```\n",
        "A short mentioning of the used packages:\n",
        "\n",
        "- numpy has been used for high-level mathematical functions\n",
        "- pandas has been mainly used for data manipulation and analysis.\n",
        "- tensorflow was used for training and inference of deep neural networks.\n",
        "- sklearn has many inbuilt functions containing various classification and regression algorithms which were used in this project\n",
        "- matplotlib was used in plotting various kinds of graphs and charts\n",
        "\n"
      ]
    },
    {
      "cell_type": "code",
      "metadata": {
        "id": "KKQK3cVi1e0D",
        "colab": {
          "base_uri": "https://localhost:8080/"
        },
        "outputId": "6f4c46ba-4add-4169-f4ec-0f4ba991252e"
      },
      "source": [
        "import numpy as np # linear algebra\n",
        "import pandas as pd # data processing, CSV file I/O (e.g. pd.read_csv)\n",
        "import tensorflow as tf\n",
        "from sklearn.preprocessing import MinMaxScaler\n",
        "from sklearn.model_selection import train_test_split\n",
        "from matplotlib import pyplot as plt\n",
        "import seaborn as sns\n",
        "import os\n",
        "import time\n",
        "cwd = os.getcwd()\n",
        "from google.colab import drive\n",
        "drive.mount('/content/drive')"
      ],
      "execution_count": 1,
      "outputs": [
        {
          "output_type": "stream",
          "name": "stdout",
          "text": [
            "Drive already mounted at /content/drive; to attempt to forcibly remount, call drive.mount(\"/content/drive\", force_remount=True).\n"
          ]
        }
      ]
    },
    {
      "cell_type": "markdown",
      "metadata": {
        "id": "6PFOmwTipQTg"
      },
      "source": [
        "Storing the path names"
      ]
    },
    {
      "cell_type": "code",
      "metadata": {
        "id": "h-4RK3Ar2ALQ"
      },
      "source": [
        "AP_train_path='/content/drive/MyDrive/CDAC/RSSI Dataset Grand Finale/AP_info.csv'\n",
        "Wifi_train_path ='/content/drive/MyDrive/CDAC/RSSI Dataset Grand Finale/training_dataset.csv'\n",
        "Wifi_test_path ='/content/drive/MyDrive/CDAC/RSSI Dataset Grand Finale/verification_dataset.csv'"
      ],
      "execution_count": 2,
      "outputs": []
    },
    {
      "cell_type": "markdown",
      "metadata": {
        "id": "ZEQJnti1pTsW"
      },
      "source": [
        "Reading the csv files and storing in form of dataset"
      ]
    },
    {
      "cell_type": "code",
      "metadata": {
        "id": "Xv2QMkLfn5pt"
      },
      "source": [
        "AP_train=pd.read_csv(AP_train_path)"
      ],
      "execution_count": 3,
      "outputs": []
    },
    {
      "cell_type": "markdown",
      "metadata": {
        "id": "HHNbEGvoph2M"
      },
      "source": [
        "Transforming the categorical data to numerical ones using one-hot-encoding"
      ]
    },
    {
      "cell_type": "code",
      "metadata": {
        "id": "M1STa2Eqn_e9"
      },
      "source": [
        "AP_train = pd.concat([AP_train,pd.get_dummies(AP_train['Indoor/Outdoor'])['Outdoor']], axis=1, join='inner').drop(columns=['Indoor/Outdoor'])"
      ],
      "execution_count": 4,
      "outputs": []
    },
    {
      "cell_type": "markdown",
      "metadata": {
        "id": "MrIFLJRmpZ6e"
      },
      "source": [
        "Let us have a look at the AP provided information"
      ]
    },
    {
      "cell_type": "code",
      "metadata": {
        "id": "_ha74gr6n72F",
        "colab": {
          "base_uri": "https://localhost:8080/",
          "height": 175
        },
        "outputId": "414da985-e65d-417a-b9ff-4400cec34e79"
      },
      "source": [
        "AP_train"
      ],
      "execution_count": 5,
      "outputs": [
        {
          "output_type": "execute_result",
          "data": {
            "text/html": [
              "<div>\n",
              "<style scoped>\n",
              "    .dataframe tbody tr th:only-of-type {\n",
              "        vertical-align: middle;\n",
              "    }\n",
              "\n",
              "    .dataframe tbody tr th {\n",
              "        vertical-align: top;\n",
              "    }\n",
              "\n",
              "    .dataframe thead th {\n",
              "        text-align: right;\n",
              "    }\n",
              "</style>\n",
              "<table border=\"1\" class=\"dataframe\">\n",
              "  <thead>\n",
              "    <tr style=\"text-align: right;\">\n",
              "      <th></th>\n",
              "      <th>AP SSID</th>\n",
              "      <th>Latitude</th>\n",
              "      <th>Longitude</th>\n",
              "      <th>Hight Difference(m)</th>\n",
              "      <th>Outdoor</th>\n",
              "    </tr>\n",
              "  </thead>\n",
              "  <tbody>\n",
              "    <tr>\n",
              "      <th>0</th>\n",
              "      <td>1</td>\n",
              "      <td>35.157320</td>\n",
              "      <td>136.926447</td>\n",
              "      <td>0</td>\n",
              "      <td>1</td>\n",
              "    </tr>\n",
              "    <tr>\n",
              "      <th>1</th>\n",
              "      <td>2</td>\n",
              "      <td>35.157347</td>\n",
              "      <td>136.926807</td>\n",
              "      <td>0</td>\n",
              "      <td>1</td>\n",
              "    </tr>\n",
              "    <tr>\n",
              "      <th>2</th>\n",
              "      <td>3</td>\n",
              "      <td>35.157202</td>\n",
              "      <td>136.926827</td>\n",
              "      <td>0</td>\n",
              "      <td>1</td>\n",
              "    </tr>\n",
              "    <tr>\n",
              "      <th>3</th>\n",
              "      <td>4</td>\n",
              "      <td>35.157165</td>\n",
              "      <td>136.926470</td>\n",
              "      <td>0</td>\n",
              "      <td>1</td>\n",
              "    </tr>\n",
              "  </tbody>\n",
              "</table>\n",
              "</div>"
            ],
            "text/plain": [
              "   AP SSID   Latitude   Longitude  Hight Difference(m)  Outdoor\n",
              "0        1  35.157320  136.926447                    0        1\n",
              "1        2  35.157347  136.926807                    0        1\n",
              "2        3  35.157202  136.926827                    0        1\n",
              "3        4  35.157165  136.926470                    0        1"
            ]
          },
          "metadata": {},
          "execution_count": 5
        }
      ]
    },
    {
      "cell_type": "code",
      "metadata": {
        "id": "BfJ_uzqpp1sE"
      },
      "source": [
        "AP_train = AP_train.astype({\"Latitude\":'float64',\"Longitude\":'float64',\"Hight Difference(m)\":'float64'})"
      ],
      "execution_count": 6,
      "outputs": []
    },
    {
      "cell_type": "markdown",
      "metadata": {
        "id": "WrMoDDVOpsGT"
      },
      "source": [
        "Reading the measured data from the APs from training_dataset.csv and verification_dataset.csv and storing them inform of datasets."
      ]
    },
    {
      "cell_type": "code",
      "metadata": {
        "id": "48C1sG81p409"
      },
      "source": [
        "train = pd.read_csv(Wifi_train_path)\n",
        "test = pd.read_csv(Wifi_test_path)"
      ],
      "execution_count": 7,
      "outputs": []
    },
    {
      "cell_type": "code",
      "metadata": {
        "id": "engVZuFIqCzG"
      },
      "source": [
        "train.drop(columns=['No.'], inplace=True)\n",
        "test.drop(columns=['No.'], inplace=True)"
      ],
      "execution_count": 8,
      "outputs": []
    },
    {
      "cell_type": "markdown",
      "metadata": {
        "id": "LGRDTj49p51k"
      },
      "source": [
        "Having a look at the datasets:"
      ]
    },
    {
      "cell_type": "code",
      "metadata": {
        "id": "XyW4Y_lnqDbm",
        "colab": {
          "base_uri": "https://localhost:8080/",
          "height": 424
        },
        "outputId": "214cb556-dcd9-4a72-82a1-0f2381d1f4ce"
      },
      "source": [
        "train"
      ],
      "execution_count": 9,
      "outputs": [
        {
          "output_type": "execute_result",
          "data": {
            "text/html": [
              "<div>\n",
              "<style scoped>\n",
              "    .dataframe tbody tr th:only-of-type {\n",
              "        vertical-align: middle;\n",
              "    }\n",
              "\n",
              "    .dataframe tbody tr th {\n",
              "        vertical-align: top;\n",
              "    }\n",
              "\n",
              "    .dataframe thead th {\n",
              "        text-align: right;\n",
              "    }\n",
              "</style>\n",
              "<table border=\"1\" class=\"dataframe\">\n",
              "  <thead>\n",
              "    <tr style=\"text-align: right;\">\n",
              "      <th></th>\n",
              "      <th>TimeStamp(UNIX)</th>\n",
              "      <th>Latitude</th>\n",
              "      <th>Longitude</th>\n",
              "      <th>SSID</th>\n",
              "      <th>Channel</th>\n",
              "      <th>RSSI(dBm)</th>\n",
              "    </tr>\n",
              "  </thead>\n",
              "  <tbody>\n",
              "    <tr>\n",
              "      <th>0</th>\n",
              "      <td>1631687696</td>\n",
              "      <td>35.157140</td>\n",
              "      <td>136.926306</td>\n",
              "      <td>1</td>\n",
              "      <td>11</td>\n",
              "      <td>-41</td>\n",
              "    </tr>\n",
              "    <tr>\n",
              "      <th>1</th>\n",
              "      <td>1631687697</td>\n",
              "      <td>35.157140</td>\n",
              "      <td>136.926306</td>\n",
              "      <td>1</td>\n",
              "      <td>11</td>\n",
              "      <td>-41</td>\n",
              "    </tr>\n",
              "    <tr>\n",
              "      <th>2</th>\n",
              "      <td>1631687697</td>\n",
              "      <td>35.157140</td>\n",
              "      <td>136.926306</td>\n",
              "      <td>1</td>\n",
              "      <td>11</td>\n",
              "      <td>-41</td>\n",
              "    </tr>\n",
              "    <tr>\n",
              "      <th>3</th>\n",
              "      <td>1631687697</td>\n",
              "      <td>35.157140</td>\n",
              "      <td>136.926306</td>\n",
              "      <td>1</td>\n",
              "      <td>11</td>\n",
              "      <td>-41</td>\n",
              "    </tr>\n",
              "    <tr>\n",
              "      <th>4</th>\n",
              "      <td>1631687697</td>\n",
              "      <td>35.157140</td>\n",
              "      <td>136.926306</td>\n",
              "      <td>1</td>\n",
              "      <td>11</td>\n",
              "      <td>-41</td>\n",
              "    </tr>\n",
              "    <tr>\n",
              "      <th>...</th>\n",
              "      <td>...</td>\n",
              "      <td>...</td>\n",
              "      <td>...</td>\n",
              "      <td>...</td>\n",
              "      <td>...</td>\n",
              "      <td>...</td>\n",
              "    </tr>\n",
              "    <tr>\n",
              "      <th>5195</th>\n",
              "      <td>1631688763</td>\n",
              "      <td>35.157236</td>\n",
              "      <td>136.926489</td>\n",
              "      <td>4</td>\n",
              "      <td>1</td>\n",
              "      <td>-52</td>\n",
              "    </tr>\n",
              "    <tr>\n",
              "      <th>5196</th>\n",
              "      <td>1631688763</td>\n",
              "      <td>35.157236</td>\n",
              "      <td>136.926489</td>\n",
              "      <td>4</td>\n",
              "      <td>1</td>\n",
              "      <td>-52</td>\n",
              "    </tr>\n",
              "    <tr>\n",
              "      <th>5197</th>\n",
              "      <td>1631688763</td>\n",
              "      <td>35.157236</td>\n",
              "      <td>136.926489</td>\n",
              "      <td>4</td>\n",
              "      <td>1</td>\n",
              "      <td>-52</td>\n",
              "    </tr>\n",
              "    <tr>\n",
              "      <th>5198</th>\n",
              "      <td>1631688763</td>\n",
              "      <td>35.157236</td>\n",
              "      <td>136.926489</td>\n",
              "      <td>4</td>\n",
              "      <td>1</td>\n",
              "      <td>-52</td>\n",
              "    </tr>\n",
              "    <tr>\n",
              "      <th>5199</th>\n",
              "      <td>1631688763</td>\n",
              "      <td>35.157236</td>\n",
              "      <td>136.926489</td>\n",
              "      <td>4</td>\n",
              "      <td>1</td>\n",
              "      <td>-52</td>\n",
              "    </tr>\n",
              "  </tbody>\n",
              "</table>\n",
              "<p>5200 rows × 6 columns</p>\n",
              "</div>"
            ],
            "text/plain": [
              "      TimeStamp(UNIX)   Latitude   Longitude  SSID  Channel  RSSI(dBm)\n",
              "0          1631687696  35.157140  136.926306     1       11        -41\n",
              "1          1631687697  35.157140  136.926306     1       11        -41\n",
              "2          1631687697  35.157140  136.926306     1       11        -41\n",
              "3          1631687697  35.157140  136.926306     1       11        -41\n",
              "4          1631687697  35.157140  136.926306     1       11        -41\n",
              "...               ...        ...         ...   ...      ...        ...\n",
              "5195       1631688763  35.157236  136.926489     4        1        -52\n",
              "5196       1631688763  35.157236  136.926489     4        1        -52\n",
              "5197       1631688763  35.157236  136.926489     4        1        -52\n",
              "5198       1631688763  35.157236  136.926489     4        1        -52\n",
              "5199       1631688763  35.157236  136.926489     4        1        -52\n",
              "\n",
              "[5200 rows x 6 columns]"
            ]
          },
          "metadata": {},
          "execution_count": 9
        }
      ]
    },
    {
      "cell_type": "code",
      "metadata": {
        "id": "8Rd53y6RqFPL",
        "colab": {
          "base_uri": "https://localhost:8080/",
          "height": 424
        },
        "outputId": "f6b77ad6-aa3e-4a3e-de11-e894fe441f7c"
      },
      "source": [
        "test"
      ],
      "execution_count": 10,
      "outputs": [
        {
          "output_type": "execute_result",
          "data": {
            "text/html": [
              "<div>\n",
              "<style scoped>\n",
              "    .dataframe tbody tr th:only-of-type {\n",
              "        vertical-align: middle;\n",
              "    }\n",
              "\n",
              "    .dataframe tbody tr th {\n",
              "        vertical-align: top;\n",
              "    }\n",
              "\n",
              "    .dataframe thead th {\n",
              "        text-align: right;\n",
              "    }\n",
              "</style>\n",
              "<table border=\"1\" class=\"dataframe\">\n",
              "  <thead>\n",
              "    <tr style=\"text-align: right;\">\n",
              "      <th></th>\n",
              "      <th>TimeStamp(UNIX)</th>\n",
              "      <th>Latitude</th>\n",
              "      <th>Longitude</th>\n",
              "      <th>SSID</th>\n",
              "      <th>Channel</th>\n",
              "      <th>RSSI(dBm)</th>\n",
              "    </tr>\n",
              "  </thead>\n",
              "  <tbody>\n",
              "    <tr>\n",
              "      <th>0</th>\n",
              "      <td>1631689137</td>\n",
              "      <td>35.157261</td>\n",
              "      <td>136.926465</td>\n",
              "      <td>1</td>\n",
              "      <td>11</td>\n",
              "      <td>-41</td>\n",
              "    </tr>\n",
              "    <tr>\n",
              "      <th>1</th>\n",
              "      <td>1631689137</td>\n",
              "      <td>35.157261</td>\n",
              "      <td>136.926465</td>\n",
              "      <td>1</td>\n",
              "      <td>11</td>\n",
              "      <td>-41</td>\n",
              "    </tr>\n",
              "    <tr>\n",
              "      <th>2</th>\n",
              "      <td>1631689138</td>\n",
              "      <td>35.157261</td>\n",
              "      <td>136.926465</td>\n",
              "      <td>1</td>\n",
              "      <td>11</td>\n",
              "      <td>-41</td>\n",
              "    </tr>\n",
              "    <tr>\n",
              "      <th>3</th>\n",
              "      <td>1631689138</td>\n",
              "      <td>35.157261</td>\n",
              "      <td>136.926465</td>\n",
              "      <td>1</td>\n",
              "      <td>11</td>\n",
              "      <td>-41</td>\n",
              "    </tr>\n",
              "    <tr>\n",
              "      <th>4</th>\n",
              "      <td>1631689138</td>\n",
              "      <td>35.157261</td>\n",
              "      <td>136.926465</td>\n",
              "      <td>1</td>\n",
              "      <td>11</td>\n",
              "      <td>-41</td>\n",
              "    </tr>\n",
              "    <tr>\n",
              "      <th>...</th>\n",
              "      <td>...</td>\n",
              "      <td>...</td>\n",
              "      <td>...</td>\n",
              "      <td>...</td>\n",
              "      <td>...</td>\n",
              "      <td>...</td>\n",
              "    </tr>\n",
              "    <tr>\n",
              "      <th>5195</th>\n",
              "      <td>1631691291</td>\n",
              "      <td>35.157298</td>\n",
              "      <td>136.926575</td>\n",
              "      <td>4</td>\n",
              "      <td>1</td>\n",
              "      <td>-59</td>\n",
              "    </tr>\n",
              "    <tr>\n",
              "      <th>5196</th>\n",
              "      <td>1631691291</td>\n",
              "      <td>35.157298</td>\n",
              "      <td>136.926575</td>\n",
              "      <td>4</td>\n",
              "      <td>1</td>\n",
              "      <td>-59</td>\n",
              "    </tr>\n",
              "    <tr>\n",
              "      <th>5197</th>\n",
              "      <td>1631691291</td>\n",
              "      <td>35.157298</td>\n",
              "      <td>136.926575</td>\n",
              "      <td>4</td>\n",
              "      <td>1</td>\n",
              "      <td>-59</td>\n",
              "    </tr>\n",
              "    <tr>\n",
              "      <th>5198</th>\n",
              "      <td>1631691291</td>\n",
              "      <td>35.157298</td>\n",
              "      <td>136.926575</td>\n",
              "      <td>4</td>\n",
              "      <td>1</td>\n",
              "      <td>-59</td>\n",
              "    </tr>\n",
              "    <tr>\n",
              "      <th>5199</th>\n",
              "      <td>1631691292</td>\n",
              "      <td>35.157298</td>\n",
              "      <td>136.926575</td>\n",
              "      <td>4</td>\n",
              "      <td>1</td>\n",
              "      <td>-59</td>\n",
              "    </tr>\n",
              "  </tbody>\n",
              "</table>\n",
              "<p>5200 rows × 6 columns</p>\n",
              "</div>"
            ],
            "text/plain": [
              "      TimeStamp(UNIX)   Latitude   Longitude  SSID  Channel  RSSI(dBm)\n",
              "0          1631689137  35.157261  136.926465     1       11        -41\n",
              "1          1631689137  35.157261  136.926465     1       11        -41\n",
              "2          1631689138  35.157261  136.926465     1       11        -41\n",
              "3          1631689138  35.157261  136.926465     1       11        -41\n",
              "4          1631689138  35.157261  136.926465     1       11        -41\n",
              "...               ...        ...         ...   ...      ...        ...\n",
              "5195       1631691291  35.157298  136.926575     4        1        -59\n",
              "5196       1631691291  35.157298  136.926575     4        1        -59\n",
              "5197       1631691291  35.157298  136.926575     4        1        -59\n",
              "5198       1631691291  35.157298  136.926575     4        1        -59\n",
              "5199       1631691292  35.157298  136.926575     4        1        -59\n",
              "\n",
              "[5200 rows x 6 columns]"
            ]
          },
          "metadata": {},
          "execution_count": 10
        }
      ]
    },
    {
      "cell_type": "markdown",
      "metadata": {
        "id": "jaiyuJulp9N5"
      },
      "source": [
        "Removing the duplicate data present :"
      ]
    },
    {
      "cell_type": "code",
      "metadata": {
        "id": "qcQeHAjqqHDS"
      },
      "source": [
        "train.drop_duplicates(subset=['TimeStamp(UNIX)','Latitude','Longitude','SSID','RSSI(dBm)'],keep='first',inplace=True)\n",
        "test.drop_duplicates(subset=['TimeStamp(UNIX)','Latitude','Longitude','SSID','RSSI(dBm)'],keep='first',inplace=True)\n",
        "train.reset_index(inplace=True, drop=True)\n",
        "test.reset_index(inplace=True, drop=True)"
      ],
      "execution_count": 11,
      "outputs": []
    },
    {
      "cell_type": "markdown",
      "metadata": {
        "id": "OYsitPtDqDvv"
      },
      "source": [
        "Merging the information of APs with the training and testing data:"
      ]
    },
    {
      "cell_type": "code",
      "metadata": {
        "id": "bkb72lS5qKKb"
      },
      "source": [
        "train_semi = train.merge(AP_train, how='inner', left_on='SSID', right_on='AP SSID').drop(columns=['AP SSID'])\n",
        "test_semi = test.merge(AP_train, how='inner', left_on='SSID', right_on='AP SSID').drop(columns=['AP SSID'])"
      ],
      "execution_count": 12,
      "outputs": []
    },
    {
      "cell_type": "markdown",
      "metadata": {
        "id": "KF4s1SvhqKgE"
      },
      "source": [
        "Renaming the columns to make it more comprehensible"
      ]
    },
    {
      "cell_type": "code",
      "metadata": {
        "id": "7YgyPSfoqOyT"
      },
      "source": [
        "train_semi.rename(columns = {'Latitude_x':'Latitude_OP','Longitude_x':'Longitude_OP', 'Latitude_y':'Latitude_AP', 'Longitude_y':'Longitude_AP'},inplace=True)\n",
        "test_semi.rename(columns = {'Latitude_x':'Latitude_OP','Longitude_x':'Longitude_OP', 'Latitude_y':'Latitude_AP', 'Longitude_y':'Longitude_AP'},inplace=True)"
      ],
      "execution_count": 13,
      "outputs": []
    },
    {
      "cell_type": "markdown",
      "metadata": {
        "id": "SACIqu3wqOjY"
      },
      "source": [
        "As according to the research done in this domain, there is a clear cut relationship between RSSI and euclidean distance between the AP and the reference point (as shown in the formula below), hence we add a feature of the same.\n",
        "\n",
        "![picture](https://drive.google.com/uc?export=view&id=15tuh-QXcKEVx1P8EW9MuWRd_lJlTpywg)"
      ]
    },
    {
      "cell_type": "code",
      "metadata": {
        "id": "dAG7ELMiqS2m"
      },
      "source": [
        "def euclidean_dist(lat_op, long_op, lat_ap, long_ap, height):\n",
        "  return (((lat_op - lat_ap)*111000)**2 + ((long_op - long_ap)*111000)**2 + height**2)**0.5"
      ],
      "execution_count": 14,
      "outputs": []
    },
    {
      "cell_type": "markdown",
      "metadata": {
        "id": "aDpRDjVgqWEM"
      },
      "source": [
        "Since, we observe a significant variation in the provided RSSI data values (possibly due to multipath fading), we added a Moving Average of RSSI feature to smoothen the sudden variations in data."
      ]
    },
    {
      "cell_type": "code",
      "metadata": {
        "id": "vsVobQr9qWPt"
      },
      "source": [
        "def moving_average(inp):\n",
        "  moving_avg=list(inp[\"RSSI(dBm)\"][:4])\n",
        "  i = 0\n",
        "  window_size=50\n",
        "  while i < len(list(inp[\"RSSI(dBm)\"])) - window_size + 1:\n",
        "      this_window = list(inp[\"RSSI(dBm)\"][i : i + window_size])\n",
        "      window_average = sum(this_window) / window_size\n",
        "      moving_avg.append(window_average)\n",
        "      i += 1\n",
        "  for z in range(len(list(inp[\"RSSI(dBm)\"]))-len(moving_avg)):\n",
        "    moving_avg.append(moving_avg[-1])\n",
        "  return moving_avg"
      ],
      "execution_count": 15,
      "outputs": []
    },
    {
      "cell_type": "code",
      "metadata": {
        "id": "Uk-md4Vhqb1O"
      },
      "source": [
        "train_semi['Distance'] = train_semi.apply(lambda row: euclidean_dist(row['Latitude_OP'],row['Longitude_OP'],row['Latitude_AP'],row['Longitude_AP'],row['Hight Difference(m)']),axis=1)\n",
        "test_semi['Distance'] = test_semi.apply(lambda row: euclidean_dist(row['Latitude_OP'],row['Longitude_OP'],row['Latitude_AP'],row['Longitude_AP'],row['Hight Difference(m)']),axis=1)"
      ],
      "execution_count": 16,
      "outputs": []
    },
    {
      "cell_type": "code",
      "metadata": {
        "id": "FbFWnMgqqeYg"
      },
      "source": [
        "train_semi = pd.concat([train_semi,pd.DataFrame(moving_average(train_semi), columns = ['Moving Average (RSSI)'])], axis=1)\n",
        "test_semi = pd.concat([test_semi,pd.DataFrame(moving_average(test_semi), columns = ['Moving Average (RSSI)'])], axis=1)"
      ],
      "execution_count": 17,
      "outputs": []
    },
    {
      "cell_type": "code",
      "metadata": {
        "id": "W6K_3FJDqj0Y"
      },
      "source": [
        "final_train = train_semi.copy()\n",
        "final_test = test_semi.copy()"
      ],
      "execution_count": 18,
      "outputs": []
    },
    {
      "cell_type": "code",
      "metadata": {
        "id": "FJg81vLyqtNM",
        "colab": {
          "base_uri": "https://localhost:8080/",
          "height": 441
        },
        "outputId": "c5287755-92be-45a9-82af-dde70ea670db"
      },
      "source": [
        " train_semi.drop_duplicates(subset=['TimeStamp(UNIX)','Latitude_OP','Longitude_OP','RSSI(dBm)'])"
      ],
      "execution_count": 19,
      "outputs": [
        {
          "output_type": "execute_result",
          "data": {
            "text/html": [
              "<div>\n",
              "<style scoped>\n",
              "    .dataframe tbody tr th:only-of-type {\n",
              "        vertical-align: middle;\n",
              "    }\n",
              "\n",
              "    .dataframe tbody tr th {\n",
              "        vertical-align: top;\n",
              "    }\n",
              "\n",
              "    .dataframe thead th {\n",
              "        text-align: right;\n",
              "    }\n",
              "</style>\n",
              "<table border=\"1\" class=\"dataframe\">\n",
              "  <thead>\n",
              "    <tr style=\"text-align: right;\">\n",
              "      <th></th>\n",
              "      <th>TimeStamp(UNIX)</th>\n",
              "      <th>Latitude_OP</th>\n",
              "      <th>Longitude_OP</th>\n",
              "      <th>SSID</th>\n",
              "      <th>Channel</th>\n",
              "      <th>RSSI(dBm)</th>\n",
              "      <th>Latitude_AP</th>\n",
              "      <th>Longitude_AP</th>\n",
              "      <th>Hight Difference(m)</th>\n",
              "      <th>Outdoor</th>\n",
              "      <th>Distance</th>\n",
              "      <th>Moving Average (RSSI)</th>\n",
              "    </tr>\n",
              "  </thead>\n",
              "  <tbody>\n",
              "    <tr>\n",
              "      <th>0</th>\n",
              "      <td>1631687696</td>\n",
              "      <td>35.157140</td>\n",
              "      <td>136.926306</td>\n",
              "      <td>1</td>\n",
              "      <td>11</td>\n",
              "      <td>-41</td>\n",
              "      <td>35.157320</td>\n",
              "      <td>136.926447</td>\n",
              "      <td>0.0</td>\n",
              "      <td>1</td>\n",
              "      <td>25.439033</td>\n",
              "      <td>-41.00</td>\n",
              "    </tr>\n",
              "    <tr>\n",
              "      <th>1</th>\n",
              "      <td>1631687697</td>\n",
              "      <td>35.157140</td>\n",
              "      <td>136.926306</td>\n",
              "      <td>1</td>\n",
              "      <td>11</td>\n",
              "      <td>-41</td>\n",
              "      <td>35.157320</td>\n",
              "      <td>136.926447</td>\n",
              "      <td>0.0</td>\n",
              "      <td>1</td>\n",
              "      <td>25.439033</td>\n",
              "      <td>-41.00</td>\n",
              "    </tr>\n",
              "    <tr>\n",
              "      <th>2</th>\n",
              "      <td>1631687698</td>\n",
              "      <td>35.157140</td>\n",
              "      <td>136.926306</td>\n",
              "      <td>1</td>\n",
              "      <td>11</td>\n",
              "      <td>-41</td>\n",
              "      <td>35.157320</td>\n",
              "      <td>136.926447</td>\n",
              "      <td>0.0</td>\n",
              "      <td>1</td>\n",
              "      <td>25.439033</td>\n",
              "      <td>-41.00</td>\n",
              "    </tr>\n",
              "    <tr>\n",
              "      <th>3</th>\n",
              "      <td>1631687699</td>\n",
              "      <td>35.157140</td>\n",
              "      <td>136.926306</td>\n",
              "      <td>1</td>\n",
              "      <td>11</td>\n",
              "      <td>-41</td>\n",
              "      <td>35.157320</td>\n",
              "      <td>136.926447</td>\n",
              "      <td>0.0</td>\n",
              "      <td>1</td>\n",
              "      <td>25.439033</td>\n",
              "      <td>-41.00</td>\n",
              "    </tr>\n",
              "    <tr>\n",
              "      <th>4</th>\n",
              "      <td>1631687700</td>\n",
              "      <td>35.157140</td>\n",
              "      <td>136.926306</td>\n",
              "      <td>1</td>\n",
              "      <td>11</td>\n",
              "      <td>-41</td>\n",
              "      <td>35.157320</td>\n",
              "      <td>136.926447</td>\n",
              "      <td>0.0</td>\n",
              "      <td>1</td>\n",
              "      <td>25.439033</td>\n",
              "      <td>-42.16</td>\n",
              "    </tr>\n",
              "    <tr>\n",
              "      <th>...</th>\n",
              "      <td>...</td>\n",
              "      <td>...</td>\n",
              "      <td>...</td>\n",
              "      <td>...</td>\n",
              "      <td>...</td>\n",
              "      <td>...</td>\n",
              "      <td>...</td>\n",
              "      <td>...</td>\n",
              "      <td>...</td>\n",
              "      <td>...</td>\n",
              "      <td>...</td>\n",
              "      <td>...</td>\n",
              "    </tr>\n",
              "    <tr>\n",
              "      <th>1071</th>\n",
              "      <td>1631688759</td>\n",
              "      <td>35.157236</td>\n",
              "      <td>136.926489</td>\n",
              "      <td>4</td>\n",
              "      <td>1</td>\n",
              "      <td>-52</td>\n",
              "      <td>35.157165</td>\n",
              "      <td>136.926470</td>\n",
              "      <td>0.0</td>\n",
              "      <td>1</td>\n",
              "      <td>8.152950</td>\n",
              "      <td>-58.24</td>\n",
              "    </tr>\n",
              "    <tr>\n",
              "      <th>1072</th>\n",
              "      <td>1631688760</td>\n",
              "      <td>35.157236</td>\n",
              "      <td>136.926489</td>\n",
              "      <td>4</td>\n",
              "      <td>1</td>\n",
              "      <td>-52</td>\n",
              "      <td>35.157165</td>\n",
              "      <td>136.926470</td>\n",
              "      <td>0.0</td>\n",
              "      <td>1</td>\n",
              "      <td>8.152950</td>\n",
              "      <td>-58.24</td>\n",
              "    </tr>\n",
              "    <tr>\n",
              "      <th>1073</th>\n",
              "      <td>1631688761</td>\n",
              "      <td>35.157236</td>\n",
              "      <td>136.926489</td>\n",
              "      <td>4</td>\n",
              "      <td>1</td>\n",
              "      <td>-52</td>\n",
              "      <td>35.157165</td>\n",
              "      <td>136.926470</td>\n",
              "      <td>0.0</td>\n",
              "      <td>1</td>\n",
              "      <td>8.152950</td>\n",
              "      <td>-58.24</td>\n",
              "    </tr>\n",
              "    <tr>\n",
              "      <th>1074</th>\n",
              "      <td>1631688762</td>\n",
              "      <td>35.157236</td>\n",
              "      <td>136.926489</td>\n",
              "      <td>4</td>\n",
              "      <td>1</td>\n",
              "      <td>-52</td>\n",
              "      <td>35.157165</td>\n",
              "      <td>136.926470</td>\n",
              "      <td>0.0</td>\n",
              "      <td>1</td>\n",
              "      <td>8.152950</td>\n",
              "      <td>-58.24</td>\n",
              "    </tr>\n",
              "    <tr>\n",
              "      <th>1075</th>\n",
              "      <td>1631688763</td>\n",
              "      <td>35.157236</td>\n",
              "      <td>136.926489</td>\n",
              "      <td>4</td>\n",
              "      <td>1</td>\n",
              "      <td>-52</td>\n",
              "      <td>35.157165</td>\n",
              "      <td>136.926470</td>\n",
              "      <td>0.0</td>\n",
              "      <td>1</td>\n",
              "      <td>8.152950</td>\n",
              "      <td>-58.24</td>\n",
              "    </tr>\n",
              "  </tbody>\n",
              "</table>\n",
              "<p>1059 rows × 12 columns</p>\n",
              "</div>"
            ],
            "text/plain": [
              "      TimeStamp(UNIX)  Latitude_OP  ...   Distance  Moving Average (RSSI)\n",
              "0          1631687696    35.157140  ...  25.439033                 -41.00\n",
              "1          1631687697    35.157140  ...  25.439033                 -41.00\n",
              "2          1631687698    35.157140  ...  25.439033                 -41.00\n",
              "3          1631687699    35.157140  ...  25.439033                 -41.00\n",
              "4          1631687700    35.157140  ...  25.439033                 -42.16\n",
              "...               ...          ...  ...        ...                    ...\n",
              "1071       1631688759    35.157236  ...   8.152950                 -58.24\n",
              "1072       1631688760    35.157236  ...   8.152950                 -58.24\n",
              "1073       1631688761    35.157236  ...   8.152950                 -58.24\n",
              "1074       1631688762    35.157236  ...   8.152950                 -58.24\n",
              "1075       1631688763    35.157236  ...   8.152950                 -58.24\n",
              "\n",
              "[1059 rows x 12 columns]"
            ]
          },
          "metadata": {},
          "execution_count": 19
        }
      ]
    },
    {
      "cell_type": "code",
      "metadata": {
        "id": "PoeOGVgzvPxo"
      },
      "source": [
        "train[\"RSSI_AAA001\"] = np.where(train['SSID'] == 1, train[\"RSSI(dBm)\"], \"\")\n",
        "train[\"RSSI_AAA002\"] = np.where(train['SSID'] == 2, train[\"RSSI(dBm)\"], \"\")\n",
        "train[\"RSSI_AAA003\"] = np.where(train['SSID'] == 3, train[\"RSSI(dBm)\"], \"\")\n",
        "train[\"RSSI_AAA004\"] = np.where(train['SSID'] == 4, train[\"RSSI(dBm)\"], \"\")"
      ],
      "execution_count": 20,
      "outputs": []
    },
    {
      "cell_type": "code",
      "metadata": {
        "id": "TvPz_1arvmdJ"
      },
      "source": [
        "train.drop(['SSID','RSSI(dBm)'],axis=1,inplace=True)"
      ],
      "execution_count": 21,
      "outputs": []
    },
    {
      "cell_type": "code",
      "metadata": {
        "id": "BqGmrNzQFIeO"
      },
      "source": [
        "train_semi = pd.concat([train_semi,pd.get_dummies(train_semi['SSID'])], axis=1, join='inner').drop(columns=['SSID'])\n",
        "test_semi = pd.concat([test_semi,pd.get_dummies(test_semi['SSID'])], axis=1, join='inner').drop(columns=['SSID'])"
      ],
      "execution_count": 22,
      "outputs": []
    },
    {
      "cell_type": "markdown",
      "metadata": {
        "id": "eeVlXAL9b0cc"
      },
      "source": [
        "Data restructuring:\n",
        "\n",
        "Data restructuring is an essential step of data preprocessing. \n",
        "We are changing the structure of the data provided to us by creating a  combination of AP and RP features, to suit model training."
      ]
    },
    {
      "cell_type": "code",
      "metadata": {
        "id": "d2x9TR5xBE8l",
        "colab": {
          "base_uri": "https://localhost:8080/",
          "height": 458
        },
        "outputId": "b188a3ee-d7d0-4c82-97fa-e41755ab30c5"
      },
      "source": [
        "train_semi"
      ],
      "execution_count": 23,
      "outputs": [
        {
          "output_type": "execute_result",
          "data": {
            "text/html": [
              "<div>\n",
              "<style scoped>\n",
              "    .dataframe tbody tr th:only-of-type {\n",
              "        vertical-align: middle;\n",
              "    }\n",
              "\n",
              "    .dataframe tbody tr th {\n",
              "        vertical-align: top;\n",
              "    }\n",
              "\n",
              "    .dataframe thead th {\n",
              "        text-align: right;\n",
              "    }\n",
              "</style>\n",
              "<table border=\"1\" class=\"dataframe\">\n",
              "  <thead>\n",
              "    <tr style=\"text-align: right;\">\n",
              "      <th></th>\n",
              "      <th>TimeStamp(UNIX)</th>\n",
              "      <th>Latitude_OP</th>\n",
              "      <th>Longitude_OP</th>\n",
              "      <th>Channel</th>\n",
              "      <th>RSSI(dBm)</th>\n",
              "      <th>Latitude_AP</th>\n",
              "      <th>Longitude_AP</th>\n",
              "      <th>Hight Difference(m)</th>\n",
              "      <th>Outdoor</th>\n",
              "      <th>Distance</th>\n",
              "      <th>Moving Average (RSSI)</th>\n",
              "      <th>1</th>\n",
              "      <th>2</th>\n",
              "      <th>3</th>\n",
              "      <th>4</th>\n",
              "    </tr>\n",
              "  </thead>\n",
              "  <tbody>\n",
              "    <tr>\n",
              "      <th>0</th>\n",
              "      <td>1631687696</td>\n",
              "      <td>35.157140</td>\n",
              "      <td>136.926306</td>\n",
              "      <td>11</td>\n",
              "      <td>-41</td>\n",
              "      <td>35.157320</td>\n",
              "      <td>136.926447</td>\n",
              "      <td>0.0</td>\n",
              "      <td>1</td>\n",
              "      <td>25.439033</td>\n",
              "      <td>-41.00</td>\n",
              "      <td>1</td>\n",
              "      <td>0</td>\n",
              "      <td>0</td>\n",
              "      <td>0</td>\n",
              "    </tr>\n",
              "    <tr>\n",
              "      <th>1</th>\n",
              "      <td>1631687697</td>\n",
              "      <td>35.157140</td>\n",
              "      <td>136.926306</td>\n",
              "      <td>11</td>\n",
              "      <td>-41</td>\n",
              "      <td>35.157320</td>\n",
              "      <td>136.926447</td>\n",
              "      <td>0.0</td>\n",
              "      <td>1</td>\n",
              "      <td>25.439033</td>\n",
              "      <td>-41.00</td>\n",
              "      <td>1</td>\n",
              "      <td>0</td>\n",
              "      <td>0</td>\n",
              "      <td>0</td>\n",
              "    </tr>\n",
              "    <tr>\n",
              "      <th>2</th>\n",
              "      <td>1631687698</td>\n",
              "      <td>35.157140</td>\n",
              "      <td>136.926306</td>\n",
              "      <td>11</td>\n",
              "      <td>-41</td>\n",
              "      <td>35.157320</td>\n",
              "      <td>136.926447</td>\n",
              "      <td>0.0</td>\n",
              "      <td>1</td>\n",
              "      <td>25.439033</td>\n",
              "      <td>-41.00</td>\n",
              "      <td>1</td>\n",
              "      <td>0</td>\n",
              "      <td>0</td>\n",
              "      <td>0</td>\n",
              "    </tr>\n",
              "    <tr>\n",
              "      <th>3</th>\n",
              "      <td>1631687699</td>\n",
              "      <td>35.157140</td>\n",
              "      <td>136.926306</td>\n",
              "      <td>11</td>\n",
              "      <td>-41</td>\n",
              "      <td>35.157320</td>\n",
              "      <td>136.926447</td>\n",
              "      <td>0.0</td>\n",
              "      <td>1</td>\n",
              "      <td>25.439033</td>\n",
              "      <td>-41.00</td>\n",
              "      <td>1</td>\n",
              "      <td>0</td>\n",
              "      <td>0</td>\n",
              "      <td>0</td>\n",
              "    </tr>\n",
              "    <tr>\n",
              "      <th>4</th>\n",
              "      <td>1631687700</td>\n",
              "      <td>35.157140</td>\n",
              "      <td>136.926306</td>\n",
              "      <td>11</td>\n",
              "      <td>-41</td>\n",
              "      <td>35.157320</td>\n",
              "      <td>136.926447</td>\n",
              "      <td>0.0</td>\n",
              "      <td>1</td>\n",
              "      <td>25.439033</td>\n",
              "      <td>-42.16</td>\n",
              "      <td>1</td>\n",
              "      <td>0</td>\n",
              "      <td>0</td>\n",
              "      <td>0</td>\n",
              "    </tr>\n",
              "    <tr>\n",
              "      <th>...</th>\n",
              "      <td>...</td>\n",
              "      <td>...</td>\n",
              "      <td>...</td>\n",
              "      <td>...</td>\n",
              "      <td>...</td>\n",
              "      <td>...</td>\n",
              "      <td>...</td>\n",
              "      <td>...</td>\n",
              "      <td>...</td>\n",
              "      <td>...</td>\n",
              "      <td>...</td>\n",
              "      <td>...</td>\n",
              "      <td>...</td>\n",
              "      <td>...</td>\n",
              "      <td>...</td>\n",
              "    </tr>\n",
              "    <tr>\n",
              "      <th>1071</th>\n",
              "      <td>1631688759</td>\n",
              "      <td>35.157236</td>\n",
              "      <td>136.926489</td>\n",
              "      <td>1</td>\n",
              "      <td>-52</td>\n",
              "      <td>35.157165</td>\n",
              "      <td>136.926470</td>\n",
              "      <td>0.0</td>\n",
              "      <td>1</td>\n",
              "      <td>8.152950</td>\n",
              "      <td>-58.24</td>\n",
              "      <td>0</td>\n",
              "      <td>0</td>\n",
              "      <td>0</td>\n",
              "      <td>1</td>\n",
              "    </tr>\n",
              "    <tr>\n",
              "      <th>1072</th>\n",
              "      <td>1631688760</td>\n",
              "      <td>35.157236</td>\n",
              "      <td>136.926489</td>\n",
              "      <td>1</td>\n",
              "      <td>-52</td>\n",
              "      <td>35.157165</td>\n",
              "      <td>136.926470</td>\n",
              "      <td>0.0</td>\n",
              "      <td>1</td>\n",
              "      <td>8.152950</td>\n",
              "      <td>-58.24</td>\n",
              "      <td>0</td>\n",
              "      <td>0</td>\n",
              "      <td>0</td>\n",
              "      <td>1</td>\n",
              "    </tr>\n",
              "    <tr>\n",
              "      <th>1073</th>\n",
              "      <td>1631688761</td>\n",
              "      <td>35.157236</td>\n",
              "      <td>136.926489</td>\n",
              "      <td>1</td>\n",
              "      <td>-52</td>\n",
              "      <td>35.157165</td>\n",
              "      <td>136.926470</td>\n",
              "      <td>0.0</td>\n",
              "      <td>1</td>\n",
              "      <td>8.152950</td>\n",
              "      <td>-58.24</td>\n",
              "      <td>0</td>\n",
              "      <td>0</td>\n",
              "      <td>0</td>\n",
              "      <td>1</td>\n",
              "    </tr>\n",
              "    <tr>\n",
              "      <th>1074</th>\n",
              "      <td>1631688762</td>\n",
              "      <td>35.157236</td>\n",
              "      <td>136.926489</td>\n",
              "      <td>1</td>\n",
              "      <td>-52</td>\n",
              "      <td>35.157165</td>\n",
              "      <td>136.926470</td>\n",
              "      <td>0.0</td>\n",
              "      <td>1</td>\n",
              "      <td>8.152950</td>\n",
              "      <td>-58.24</td>\n",
              "      <td>0</td>\n",
              "      <td>0</td>\n",
              "      <td>0</td>\n",
              "      <td>1</td>\n",
              "    </tr>\n",
              "    <tr>\n",
              "      <th>1075</th>\n",
              "      <td>1631688763</td>\n",
              "      <td>35.157236</td>\n",
              "      <td>136.926489</td>\n",
              "      <td>1</td>\n",
              "      <td>-52</td>\n",
              "      <td>35.157165</td>\n",
              "      <td>136.926470</td>\n",
              "      <td>0.0</td>\n",
              "      <td>1</td>\n",
              "      <td>8.152950</td>\n",
              "      <td>-58.24</td>\n",
              "      <td>0</td>\n",
              "      <td>0</td>\n",
              "      <td>0</td>\n",
              "      <td>1</td>\n",
              "    </tr>\n",
              "  </tbody>\n",
              "</table>\n",
              "<p>1076 rows × 15 columns</p>\n",
              "</div>"
            ],
            "text/plain": [
              "      TimeStamp(UNIX)  Latitude_OP  Longitude_OP  Channel  ...  1  2  3  4\n",
              "0          1631687696    35.157140    136.926306       11  ...  1  0  0  0\n",
              "1          1631687697    35.157140    136.926306       11  ...  1  0  0  0\n",
              "2          1631687698    35.157140    136.926306       11  ...  1  0  0  0\n",
              "3          1631687699    35.157140    136.926306       11  ...  1  0  0  0\n",
              "4          1631687700    35.157140    136.926306       11  ...  1  0  0  0\n",
              "...               ...          ...           ...      ...  ... .. .. .. ..\n",
              "1071       1631688759    35.157236    136.926489        1  ...  0  0  0  1\n",
              "1072       1631688760    35.157236    136.926489        1  ...  0  0  0  1\n",
              "1073       1631688761    35.157236    136.926489        1  ...  0  0  0  1\n",
              "1074       1631688762    35.157236    136.926489        1  ...  0  0  0  1\n",
              "1075       1631688763    35.157236    136.926489        1  ...  0  0  0  1\n",
              "\n",
              "[1076 rows x 15 columns]"
            ]
          },
          "metadata": {},
          "execution_count": 23
        }
      ]
    },
    {
      "cell_type": "code",
      "metadata": {
        "id": "3AGg8gtXBGeA",
        "colab": {
          "base_uri": "https://localhost:8080/",
          "height": 458
        },
        "outputId": "45f8b65b-fc68-4f3a-af4f-15ceedbda353"
      },
      "source": [
        "test_semi"
      ],
      "execution_count": 24,
      "outputs": [
        {
          "output_type": "execute_result",
          "data": {
            "text/html": [
              "<div>\n",
              "<style scoped>\n",
              "    .dataframe tbody tr th:only-of-type {\n",
              "        vertical-align: middle;\n",
              "    }\n",
              "\n",
              "    .dataframe tbody tr th {\n",
              "        vertical-align: top;\n",
              "    }\n",
              "\n",
              "    .dataframe thead th {\n",
              "        text-align: right;\n",
              "    }\n",
              "</style>\n",
              "<table border=\"1\" class=\"dataframe\">\n",
              "  <thead>\n",
              "    <tr style=\"text-align: right;\">\n",
              "      <th></th>\n",
              "      <th>TimeStamp(UNIX)</th>\n",
              "      <th>Latitude_OP</th>\n",
              "      <th>Longitude_OP</th>\n",
              "      <th>Channel</th>\n",
              "      <th>RSSI(dBm)</th>\n",
              "      <th>Latitude_AP</th>\n",
              "      <th>Longitude_AP</th>\n",
              "      <th>Hight Difference(m)</th>\n",
              "      <th>Outdoor</th>\n",
              "      <th>Distance</th>\n",
              "      <th>Moving Average (RSSI)</th>\n",
              "      <th>1</th>\n",
              "      <th>2</th>\n",
              "      <th>3</th>\n",
              "      <th>4</th>\n",
              "    </tr>\n",
              "  </thead>\n",
              "  <tbody>\n",
              "    <tr>\n",
              "      <th>0</th>\n",
              "      <td>1631689137</td>\n",
              "      <td>35.157261</td>\n",
              "      <td>136.926465</td>\n",
              "      <td>11</td>\n",
              "      <td>-41</td>\n",
              "      <td>35.157320</td>\n",
              "      <td>136.926447</td>\n",
              "      <td>0.0</td>\n",
              "      <td>1</td>\n",
              "      <td>6.906728</td>\n",
              "      <td>-41.00</td>\n",
              "      <td>1</td>\n",
              "      <td>0</td>\n",
              "      <td>0</td>\n",
              "      <td>0</td>\n",
              "    </tr>\n",
              "    <tr>\n",
              "      <th>1</th>\n",
              "      <td>1631689138</td>\n",
              "      <td>35.157261</td>\n",
              "      <td>136.926465</td>\n",
              "      <td>11</td>\n",
              "      <td>-41</td>\n",
              "      <td>35.157320</td>\n",
              "      <td>136.926447</td>\n",
              "      <td>0.0</td>\n",
              "      <td>1</td>\n",
              "      <td>6.906728</td>\n",
              "      <td>-41.00</td>\n",
              "      <td>1</td>\n",
              "      <td>0</td>\n",
              "      <td>0</td>\n",
              "      <td>0</td>\n",
              "    </tr>\n",
              "    <tr>\n",
              "      <th>2</th>\n",
              "      <td>1631689139</td>\n",
              "      <td>35.157261</td>\n",
              "      <td>136.926465</td>\n",
              "      <td>11</td>\n",
              "      <td>-41</td>\n",
              "      <td>35.157320</td>\n",
              "      <td>136.926447</td>\n",
              "      <td>0.0</td>\n",
              "      <td>1</td>\n",
              "      <td>6.906728</td>\n",
              "      <td>-41.00</td>\n",
              "      <td>1</td>\n",
              "      <td>0</td>\n",
              "      <td>0</td>\n",
              "      <td>0</td>\n",
              "    </tr>\n",
              "    <tr>\n",
              "      <th>3</th>\n",
              "      <td>1631689140</td>\n",
              "      <td>35.157261</td>\n",
              "      <td>136.926465</td>\n",
              "      <td>11</td>\n",
              "      <td>-41</td>\n",
              "      <td>35.157320</td>\n",
              "      <td>136.926447</td>\n",
              "      <td>0.0</td>\n",
              "      <td>1</td>\n",
              "      <td>6.906728</td>\n",
              "      <td>-41.00</td>\n",
              "      <td>1</td>\n",
              "      <td>0</td>\n",
              "      <td>0</td>\n",
              "      <td>0</td>\n",
              "    </tr>\n",
              "    <tr>\n",
              "      <th>4</th>\n",
              "      <td>1631689141</td>\n",
              "      <td>35.157261</td>\n",
              "      <td>136.926465</td>\n",
              "      <td>11</td>\n",
              "      <td>-41</td>\n",
              "      <td>35.157320</td>\n",
              "      <td>136.926447</td>\n",
              "      <td>0.0</td>\n",
              "      <td>1</td>\n",
              "      <td>6.906728</td>\n",
              "      <td>-50.32</td>\n",
              "      <td>1</td>\n",
              "      <td>0</td>\n",
              "      <td>0</td>\n",
              "      <td>0</td>\n",
              "    </tr>\n",
              "    <tr>\n",
              "      <th>...</th>\n",
              "      <td>...</td>\n",
              "      <td>...</td>\n",
              "      <td>...</td>\n",
              "      <td>...</td>\n",
              "      <td>...</td>\n",
              "      <td>...</td>\n",
              "      <td>...</td>\n",
              "      <td>...</td>\n",
              "      <td>...</td>\n",
              "      <td>...</td>\n",
              "      <td>...</td>\n",
              "      <td>...</td>\n",
              "      <td>...</td>\n",
              "      <td>...</td>\n",
              "      <td>...</td>\n",
              "    </tr>\n",
              "    <tr>\n",
              "      <th>1096</th>\n",
              "      <td>1631691288</td>\n",
              "      <td>35.157298</td>\n",
              "      <td>136.926575</td>\n",
              "      <td>1</td>\n",
              "      <td>-59</td>\n",
              "      <td>35.157165</td>\n",
              "      <td>136.926470</td>\n",
              "      <td>0.0</td>\n",
              "      <td>1</td>\n",
              "      <td>18.773415</td>\n",
              "      <td>-69.32</td>\n",
              "      <td>0</td>\n",
              "      <td>0</td>\n",
              "      <td>0</td>\n",
              "      <td>1</td>\n",
              "    </tr>\n",
              "    <tr>\n",
              "      <th>1097</th>\n",
              "      <td>1631691289</td>\n",
              "      <td>35.157298</td>\n",
              "      <td>136.926575</td>\n",
              "      <td>1</td>\n",
              "      <td>-59</td>\n",
              "      <td>35.157165</td>\n",
              "      <td>136.926470</td>\n",
              "      <td>0.0</td>\n",
              "      <td>1</td>\n",
              "      <td>18.773415</td>\n",
              "      <td>-69.32</td>\n",
              "      <td>0</td>\n",
              "      <td>0</td>\n",
              "      <td>0</td>\n",
              "      <td>1</td>\n",
              "    </tr>\n",
              "    <tr>\n",
              "      <th>1098</th>\n",
              "      <td>1631691290</td>\n",
              "      <td>35.157298</td>\n",
              "      <td>136.926575</td>\n",
              "      <td>1</td>\n",
              "      <td>-59</td>\n",
              "      <td>35.157165</td>\n",
              "      <td>136.926470</td>\n",
              "      <td>0.0</td>\n",
              "      <td>1</td>\n",
              "      <td>18.773415</td>\n",
              "      <td>-69.32</td>\n",
              "      <td>0</td>\n",
              "      <td>0</td>\n",
              "      <td>0</td>\n",
              "      <td>1</td>\n",
              "    </tr>\n",
              "    <tr>\n",
              "      <th>1099</th>\n",
              "      <td>1631691291</td>\n",
              "      <td>35.157298</td>\n",
              "      <td>136.926575</td>\n",
              "      <td>1</td>\n",
              "      <td>-59</td>\n",
              "      <td>35.157165</td>\n",
              "      <td>136.926470</td>\n",
              "      <td>0.0</td>\n",
              "      <td>1</td>\n",
              "      <td>18.773415</td>\n",
              "      <td>-69.32</td>\n",
              "      <td>0</td>\n",
              "      <td>0</td>\n",
              "      <td>0</td>\n",
              "      <td>1</td>\n",
              "    </tr>\n",
              "    <tr>\n",
              "      <th>1100</th>\n",
              "      <td>1631691292</td>\n",
              "      <td>35.157298</td>\n",
              "      <td>136.926575</td>\n",
              "      <td>1</td>\n",
              "      <td>-59</td>\n",
              "      <td>35.157165</td>\n",
              "      <td>136.926470</td>\n",
              "      <td>0.0</td>\n",
              "      <td>1</td>\n",
              "      <td>18.773415</td>\n",
              "      <td>-69.32</td>\n",
              "      <td>0</td>\n",
              "      <td>0</td>\n",
              "      <td>0</td>\n",
              "      <td>1</td>\n",
              "    </tr>\n",
              "  </tbody>\n",
              "</table>\n",
              "<p>1101 rows × 15 columns</p>\n",
              "</div>"
            ],
            "text/plain": [
              "      TimeStamp(UNIX)  Latitude_OP  Longitude_OP  Channel  ...  1  2  3  4\n",
              "0          1631689137    35.157261    136.926465       11  ...  1  0  0  0\n",
              "1          1631689138    35.157261    136.926465       11  ...  1  0  0  0\n",
              "2          1631689139    35.157261    136.926465       11  ...  1  0  0  0\n",
              "3          1631689140    35.157261    136.926465       11  ...  1  0  0  0\n",
              "4          1631689141    35.157261    136.926465       11  ...  1  0  0  0\n",
              "...               ...          ...           ...      ...  ... .. .. .. ..\n",
              "1096       1631691288    35.157298    136.926575        1  ...  0  0  0  1\n",
              "1097       1631691289    35.157298    136.926575        1  ...  0  0  0  1\n",
              "1098       1631691290    35.157298    136.926575        1  ...  0  0  0  1\n",
              "1099       1631691291    35.157298    136.926575        1  ...  0  0  0  1\n",
              "1100       1631691292    35.157298    136.926575        1  ...  0  0  0  1\n",
              "\n",
              "[1101 rows x 15 columns]"
            ]
          },
          "metadata": {},
          "execution_count": 24
        }
      ]
    },
    {
      "cell_type": "markdown",
      "metadata": {
        "id": "vifHsPb9lcej"
      },
      "source": [
        "Data Smoothening:\n",
        "\n",
        "Smoothening of the data is required as the RSSI values tend to change abruptly over time. \n",
        "\n",
        "Various techniques for smoothening exists - in our case we are employing the simple moving averaging technique of RSSI values to undertake data smoothening."
      ]
    },
    {
      "cell_type": "code",
      "metadata": {
        "id": "9SpwPKdHCkyc",
        "colab": {
          "base_uri": "https://localhost:8080/",
          "height": 295
        },
        "outputId": "d52a9b19-5fa5-41ec-8716-a639797437a6"
      },
      "source": [
        "lRSSI=list(train_semi['RSSI(dBm)'])\n",
        "lMoving_avg=list(train_semi['Moving Average (RSSI)'])\n",
        "plt.plot(lRSSI, color=\"blue\", label=\"Original Data\")\n",
        "plt.plot(lMoving_avg, color=\"orange\", label=\"Smoothened Data\")\n",
        "plt.title(\"Data Smoothening\")\n",
        "plt.xlabel(\"No. of Observations\")\n",
        "plt.ylabel(\"RSSI (dBm)\")\n",
        "plt.legend(loc='best',fancybox=True, shadow=True)\n",
        "plt.show()"
      ],
      "execution_count": 25,
      "outputs": [
        {
          "output_type": "display_data",
          "data": {
            "image/png": "[encoded data removed]",
            "text/plain": [
              "<Figure size 432x288 with 1 Axes>"
            ]
          },
          "metadata": {
            "needs_background": "light"
          }
        }
      ]
    },
    {
      "cell_type": "markdown",
      "metadata": {
        "id": "2TJtjfh5lgo3"
      },
      "source": [
        "Visualising the Data Points:\n",
        "\n",
        "Plotting the Reference Points and the Access Points given in the dataset."
      ]
    },
    {
      "cell_type": "code",
      "metadata": {
        "id": "UgTNJCae2GbC",
        "colab": {
          "base_uri": "https://localhost:8080/",
          "height": 295
        },
        "outputId": "b4751e12-f301-49b9-a5d0-46c4c5642c6a"
      },
      "source": [
        "lat_RP = set(test_semi['Latitude_OP'])\n",
        "long_RP = set(test_semi['Longitude_OP'])\n",
        "lat_AP = set(test_semi['Latitude_AP'])\n",
        "long_AP = set(test_semi['Longitude_AP'])\n",
        "plt.scatter(x=list(long_RP),y=list(lat_RP), color=\"blue\", label=\"Reference Points\")\n",
        "plt.scatter(x=list(long_AP),y=list(lat_AP), color=\"red\", label=\"Access Points\")\n",
        "plt.title(\"Visualising Validation Dataset\")\n",
        "plt.xlabel(\"Longitude\")\n",
        "plt.ylabel(\"Latitude\")\n",
        "plt.legend(loc='best',fancybox=True, shadow=True)\n",
        "plt.show()"
      ],
      "execution_count": 26,
      "outputs": [
        {
          "output_type": "display_data",
          "data": {
            "image/png": "[encoded data removed]",
            "text/plain": [
              "<Figure size 432x288 with 1 Axes>"
            ]
          },
          "metadata": {
            "needs_background": "light"
          }
        }
      ]
    },
    {
      "cell_type": "code",
      "metadata": {
        "id": "T6F4VBZn6YGk",
        "colab": {
          "base_uri": "https://localhost:8080/",
          "height": 295
        },
        "outputId": "5fe8ee17-eee7-4556-810f-82d28ee958fe"
      },
      "source": [
        "lat_RP = set(train_semi['Latitude_OP'])\n",
        "long_RP = set(train_semi['Longitude_OP'])\n",
        "lat_AP = set(train_semi['Latitude_AP'])\n",
        "long_AP = set(train_semi['Longitude_AP'])\n",
        "plt.scatter(x=list(long_RP),y=list(lat_RP), color=\"blue\", label=\"Reference Points\")\n",
        "plt.scatter(x=list(long_AP),y=list(lat_AP), color=\"red\", label=\"Access Points\")\n",
        "plt.title(\"Visualising Training Dataset\")\n",
        "plt.xlabel(\"Longitude\")\n",
        "plt.ylabel(\"Latitude\")\n",
        "plt.legend(loc='best',fancybox=True, shadow=True)\n",
        "plt.show()"
      ],
      "execution_count": 27,
      "outputs": [
        {
          "output_type": "display_data",
          "data": {
            "image/png": "[encoded data removed]",
            "text/plain": [
              "<Figure size 432x288 with 1 Axes>"
            ]
          },
          "metadata": {
            "needs_background": "light"
          }
        }
      ]
    },
    {
      "cell_type": "code",
      "metadata": {
        "id": "57EH3jrW7TcJ",
        "colab": {
          "base_uri": "https://localhost:8080/",
          "height": 295
        },
        "outputId": "98c22b19-6e60-487e-d121-2d175342f7b0"
      },
      "source": [
        "lat_RP_tr = set(train_semi['Latitude_OP'])\n",
        "long_RP_tr = set(train_semi['Longitude_OP'])\n",
        "lat_AP_tr = set(train_semi['Latitude_AP'])\n",
        "long_AP_tr = set(train_semi['Longitude_AP'])\n",
        "lat_RP_te = set(test_semi['Latitude_OP'])\n",
        "long_RP_te = set(test_semi['Longitude_OP'])\n",
        "lat_AP_te = set(test_semi['Latitude_AP'])\n",
        "long_AP_te = set(test_semi['Longitude_AP'])\n",
        "plt.scatter(x=list(long_RP_tr),y=list(lat_RP_tr), color=\"blue\", label=\"Training Points\")\n",
        "plt.scatter(x=list(long_RP_te),y=list(lat_RP_te), color='xkcd:light green', label=\"Testing Points\")\n",
        "plt.scatter(x=list(long_AP),y=list(lat_AP), color=\"red\", label=\"Access Points\")\n",
        "plt.title(\"Visualising the Dataset\")\n",
        "plt.xlabel(\"Longitude\")\n",
        "plt.ylabel(\"Latitude\")\n",
        "plt.legend(loc='best',fancybox=True, shadow=True)\n",
        "plt.show()"
      ],
      "execution_count": 28,
      "outputs": [
        {
          "output_type": "display_data",
          "data": {
            "image/png": "[encoded data removed]",
            "text/plain": [
              "<Figure size 432x288 with 1 Axes>"
            ]
          },
          "metadata": {
            "needs_background": "light"
          }
        }
      ]
    },
    {
      "cell_type": "markdown",
      "metadata": {
        "id": "uJam-KLXq9TY"
      },
      "source": [
        "##Models\n",
        "\n",
        "At first, we create a Baseline Model using mathematical relationship between distance and RSSI. This model and its results will serve as reference for other ML model's performance\n"
      ]
    },
    {
      "cell_type": "markdown",
      "metadata": {
        "id": "GxInTL2hia9s"
      },
      "source": [
        "### Baseline Model"
      ]
    },
    {
      "cell_type": "code",
      "metadata": {
        "id": "JnWDVno7HlYE"
      },
      "source": [
        "test_semi['Baseline Dist'] = 10.43*(10**((-61-test_semi['RSSI(dBm)'])/27))\n",
        "test_semi['Baseline Dist'].values[test_semi['Baseline Dist'].values>test_semi['Distance'].max()]=test_semi['Distance'].max()"
      ],
      "execution_count": 29,
      "outputs": []
    },
    {
      "cell_type": "markdown",
      "metadata": {
        "id": "mYpk21Uwl2Ze"
      },
      "source": [
        "Results of Baseline Model:"
      ]
    },
    {
      "cell_type": "code",
      "metadata": {
        "id": "fWixpeOyIZb_",
        "colab": {
          "base_uri": "https://localhost:8080/"
        },
        "outputId": "eead646a-d2b5-4c8a-8f90-83a441c30747"
      },
      "source": [
        "dist_err=((test_semi['Distance']-test_semi['Baseline Dist'])**2)**0.5\n",
        "df_error = pd.DataFrame(dist_err, columns = ['Distance Error'])\n",
        "print(\"MEAN DISTANCE ERROR USING BASELINE MODEL :\", dist_err.mean(),'m')\n",
        "print(\"MAXIMUM DISTANCE ERROR USING BASELINE MODEL :\", dist_err.max(),'m')"
      ],
      "execution_count": 30,
      "outputs": [
        {
          "output_type": "stream",
          "name": "stdout",
          "text": [
            "MEAN DISTANCE ERROR USING BASELINE MODEL : 12.131676973077862 m\n",
            "MAXIMUM DISTANCE ERROR USING BASELINE MODEL : 32.460504981009464 m\n"
          ]
        }
      ]
    },
    {
      "cell_type": "code",
      "metadata": {
        "id": "t5vl-5QHvEDH",
        "colab": {
          "base_uri": "https://localhost:8080/"
        },
        "outputId": "e2817da9-c8f2-4981-aae2-e9740290321e"
      },
      "source": [
        "count = len([i for i in dist_err if i  < 2])\n",
        "low_error = count / len(dist_err) * 100\n",
        "print(\"Percentage of data with less than 2m error : \",low_error,\"%\")"
      ],
      "execution_count": 31,
      "outputs": [
        {
          "output_type": "stream",
          "name": "stdout",
          "text": [
            "Percentage of data with less than 2m error :  7.629427792915531 %\n"
          ]
        }
      ]
    },
    {
      "cell_type": "code",
      "metadata": {
        "id": "Rr8cMwbtIlYq",
        "colab": {
          "base_uri": "https://localhost:8080/",
          "height": 295
        },
        "outputId": "d122007d-5ae7-430f-badb-4827c0f8300a"
      },
      "source": [
        "x_ax = range(len(test_semi['Baseline Dist']))\n",
        "plt.plot(x_ax, test_semi['Distance'], linewidth=1, label=\"original\")\n",
        "plt.plot(x_ax, test_semi['Baseline Dist'], linewidth=1.1, label=\"predicted\")\n",
        "plt.title(\"Baseline Prediction\")\n",
        "plt.xlabel('Observation Number')\n",
        "plt.ylabel('Distance')\n",
        "plt.legend(loc='best',fancybox=True, shadow=True)\n",
        "# plt.grid(True)\n",
        "plt.show() "
      ],
      "execution_count": 32,
      "outputs": [
        {
          "output_type": "display_data",
          "data": {
            "image/png": "[encoded data removed]",
            "text/plain": [
              "<Figure size 432x288 with 1 Axes>"
            ]
          },
          "metadata": {
            "needs_background": "light"
          }
        }
      ]
    },
    {
      "cell_type": "markdown",
      "metadata": {
        "id": "LxBVYXqTdN7x"
      },
      "source": [
        "For Machine Learning model development we follow two main concepts\n",
        "1. RSSI Distance Estimation\n",
        "2. RSSI Fingerprinting\n",
        "\n",
        "### 1. RSSI Distance Estimation (Multilateration)\n",
        "\n",
        "RSSI distance estimation is solely dependent on a clear correlation between distance and RSSI value. As mentioned previously clear correlation is not present, thereby giving us considerable distance error between the predicted location and actual location.\n",
        "\n",
        "For performing the same we have tried several algorithms, the following have yielded the best results:"
      ]
    },
    {
      "cell_type": "markdown",
      "metadata": {
        "id": "3ytogEDQ0hU9"
      },
      "source": [
        "### Linear Regression using Polynomial Features of Degree 2:\n",
        "\n",
        "\n",
        "Since from the formula of RSSI and distance :\n",
        "\n",
        "![picture](https://drive.google.com/uc?export=view&id=15tuh-QXcKEVx1P8EW9MuWRd_lJlTpywg)\n",
        "\n",
        "where n=2, an inverse square law exists between RSSI and distance, thereby motivating us to use the same.\n",
        "\n",
        "The following illustrate the results obtained:"
      ]
    },
    {
      "cell_type": "code",
      "metadata": {
        "id": "jHGCX79WSEB4",
        "colab": {
          "base_uri": "https://localhost:8080/"
        },
        "outputId": "5be4b823-d0f4-4129-a55f-493e4d1fdd7b"
      },
      "source": [
        "trainX_final = train_semi[['Latitude_AP', 'Longitude_AP', 'Channel', 'RSSI(dBm)', 'Hight Difference(m)', 'Outdoor', 'Moving Average (RSSI)', 1, 2, 3, 4]]\n",
        "trainY_final = train_semi[['Latitude_OP','Longitude_OP','Distance']]\n",
        "testX_final = test_semi[['Latitude_AP', 'Longitude_AP', 'Channel', 'RSSI(dBm)', 'Hight Difference(m)', 'Outdoor', 'Moving Average (RSSI)', 1, 2, 3, 4]]\n",
        "testY_final = test_semi[['Latitude_OP','Longitude_OP','Distance']]\n",
        "mm_scaler = MinMaxScaler()\n",
        "train_X = pd.DataFrame(mm_scaler.fit_transform(trainX_final),columns=['Latitude_AP', 'Longitude_AP', 'Channel', 'RSSI(dBm)', 'Hight Difference(m)', 'Outdoor', 'Moving Average (RSSI)', '1', '2', '3', '4'])\n",
        "test_X = pd.DataFrame(mm_scaler.transform(testX_final),columns=['Latitude_AP', 'Longitude_AP', 'Channel', 'RSSI(dBm)', 'Hight Difference(m)', 'Outdoor', 'Moving Average (RSSI)', '1', '2', '3', '4'])"
      ],
      "execution_count": 33,
      "outputs": [
        {
          "output_type": "stream",
          "name": "stderr",
          "text": [
            "/usr/local/lib/python3.7/dist-packages/sklearn/utils/validation.py:1679: FutureWarning: Feature names only support names that are all strings. Got feature names with dtypes: ['int', 'str']. An error will be raised in 1.2.\n",
            "  FutureWarning,\n",
            "/usr/local/lib/python3.7/dist-packages/sklearn/utils/validation.py:1679: FutureWarning: Feature names only support names that are all strings. Got feature names with dtypes: ['int', 'str']. An error will be raised in 1.2.\n",
            "  FutureWarning,\n",
            "/usr/local/lib/python3.7/dist-packages/sklearn/utils/validation.py:1679: FutureWarning: Feature names only support names that are all strings. Got feature names with dtypes: ['int', 'str']. An error will be raised in 1.2.\n",
            "  FutureWarning,\n"
          ]
        }
      ]
    },
    {
      "cell_type": "markdown",
      "metadata": {
        "id": "2QH5SEwctitd"
      },
      "source": [
        "####Estimation of Distance of RP from AP using Linear Regression with Polynomial Feature of Degree 2"
      ]
    },
    {
      "cell_type": "code",
      "metadata": {
        "id": "kqvyVi92VUnU",
        "colab": {
          "base_uri": "https://localhost:8080/",
          "height": 0
        },
        "outputId": "0bcbd0c6-3b81-4353-9c7b-58fc3943a998"
      },
      "source": [
        "from sklearn.linear_model import LinearRegression\n",
        "from sklearn.preprocessing import PolynomialFeatures\n",
        "\n",
        "polyfeat = PolynomialFeatures(degree=2)\n",
        "newtrain_X = polyfeat.fit_transform(train_X[['Channel', 'Hight Difference(m)', 'Outdoor', 'Moving Average (RSSI)']])\n",
        "newtest_X = polyfeat.transform(test_X[['Channel', 'Hight Difference(m)', 'Outdoor', 'Moving Average (RSSI)']])\n",
        "\n",
        "model1 = LinearRegression(normalize=True, fit_intercept=False)\n",
        "model1.fit(newtrain_X, trainY_final['Distance'])\n",
        "pred_y = model1.predict(newtest_X)\n",
        "\n",
        "dist_err=((testY_final['Distance']-pred_y)**2)**0.5\n",
        "df_error = pd.DataFrame(dist_err)\n",
        "df_error.clip(upper=pd.Series({'Distance': 38}), axis=1, inplace=True)\n",
        "\n",
        "plt.plot(testY_final['Distance'], linewidth=1, label=\"original\")\n",
        "plt.plot(pred_y, linewidth=1, label=\"predicted\")\n",
        "plt.title(\"Orginal vs Predicted distance for Polynomial Regression (Deg=2)\")\n",
        "plt.xlabel('Observation Number')\n",
        "plt.ylabel('Distance')\n",
        "plt.legend(loc='best',fancybox=True, shadow=True)\n",
        "plt.show() "
      ],
      "execution_count": 34,
      "outputs": [
        {
          "output_type": "stream",
          "name": "stderr",
          "text": [
            "/usr/local/lib/python3.7/dist-packages/sklearn/linear_model/_base.py:145: FutureWarning: 'normalize' was deprecated in version 1.0 and will be removed in 1.2.\n",
            "If you wish to scale the data, use Pipeline with a StandardScaler in a preprocessing stage. To reproduce the previous behavior:\n",
            "\n",
            "from sklearn.pipeline import make_pipeline\n",
            "\n",
            "model = make_pipeline(StandardScaler(with_mean=False), LinearRegression())\n",
            "\n",
            "If you wish to pass a sample_weight parameter, you need to pass it as a fit parameter to each step of the pipeline as follows:\n",
            "\n",
            "kwargs = {s[0] + '__sample_weight': sample_weight for s in model.steps}\n",
            "model.fit(X, y, **kwargs)\n",
            "\n",
            "\n",
            "  FutureWarning,\n"
          ]
        },
        {
          "output_type": "display_data",
          "data": {
            "image/png": "[encoded data removed]",
            "text/plain": [
              "<Figure size 432x288 with 1 Axes>"
            ]
          },
          "metadata": {
            "needs_background": "light"
          }
        }
      ]
    },
    {
      "cell_type": "markdown",
      "metadata": {
        "id": "SjGkMn-hl7g5"
      },
      "source": [
        "Results obtained are as follows:"
      ]
    },
    {
      "cell_type": "code",
      "metadata": {
        "id": "R3Gpxz8ThLxX",
        "colab": {
          "base_uri": "https://localhost:8080/"
        },
        "outputId": "2d2fb9ee-8afa-4f05-a023-31c56a7435be"
      },
      "source": [
        "print(\"MEAN DISTANCE ERROR USING POLYNOMIAL REGRESSOR (DEGREE 2): \", df_error['Distance'].mean(),\"m\")\n",
        "print(\"MAXIMUM DISTANCE ERROR USING POLYNOMIAL REGRESSOR(DEGREE 2): \", df_error['Distance'].max(),\"m\")"
      ],
      "execution_count": 35,
      "outputs": [
        {
          "output_type": "stream",
          "name": "stdout",
          "text": [
            "MEAN DISTANCE ERROR USING POLYNOMIAL REGRESSOR (DEGREE 2):  10.0736354919281 m\n",
            "MAXIMUM DISTANCE ERROR USING POLYNOMIAL REGRESSOR(DEGREE 2):  25.791606937720367 m\n"
          ]
        }
      ]
    },
    {
      "cell_type": "code",
      "metadata": {
        "id": "YFgo-BA7woDG",
        "colab": {
          "base_uri": "https://localhost:8080/"
        },
        "outputId": "e3bea89a-3e40-444e-cc63-b6550ec3a663"
      },
      "source": [
        "count = len([i for i in df_error['Distance'] if i  < 2])\n",
        "low_error = count / len(df_error['Distance']) * 100\n",
        "print(\"Percentage of data with less than 2m error : \",low_error,\"%\")"
      ],
      "execution_count": 36,
      "outputs": [
        {
          "output_type": "stream",
          "name": "stdout",
          "text": [
            "Percentage of data with less than 2m error :  11.807447774750226 %\n"
          ]
        }
      ]
    },
    {
      "cell_type": "markdown",
      "metadata": {
        "id": "RZxgP9dTtbf7"
      },
      "source": [
        "####Estimation of Latitude and Longitude using Linear Regression with Polynomial Feature of Degree 2"
      ]
    },
    {
      "cell_type": "code",
      "metadata": {
        "id": "VTTp3QNYahMB",
        "colab": {
          "base_uri": "https://localhost:8080/",
          "height": 538
        },
        "outputId": "b011a41d-4187-4574-e2ff-dcede57e9fc2"
      },
      "source": [
        "polyfeat = PolynomialFeatures(degree=2)\n",
        "newtrain_X = polyfeat.fit_transform(train_X[['Latitude_AP','Longitude_AP','Channel', 'Hight Difference(m)', 'Outdoor', 'Moving Average (RSSI)','1','2','3','4']])\n",
        "newtest_X = polyfeat.transform(test_X[['Latitude_AP','Longitude_AP','Channel', 'Hight Difference(m)', 'Outdoor', 'Moving Average (RSSI)','1','2','3','4']])\n",
        "\n",
        "model2 = LinearRegression(normalize=True, fit_intercept=False)\n",
        "model2.fit(newtrain_X, trainY_final[['Latitude_OP','Longitude_OP']])\n",
        "pred_y = model2.predict(newtest_X)\n",
        "\n",
        "pred = pd.DataFrame(pred_y, columns = ['Latitude','Longitude'])\n",
        "pred['dist_err'] = (((pred['Latitude']-testY_final['Latitude_OP'])*111000)**2 + (((pred['Longitude']-testY_final['Longitude_OP'])*111000)**2))**0.5\n",
        "pred.clip(upper=pd.Series({'dist_err': 38}), axis=1,inplace=True)\n",
        "\n",
        "plt.plot(testY_final[['Latitude_OP']],label=\"original\")\n",
        "plt.plot(pred_y[:,0],label=\"predicted\")\n",
        "plt.title(\"Latitude original vs predicted\")\n",
        "plt.xlabel(\"Observation Number\")\n",
        "plt.ylabel(\"Latitude\")\n",
        "plt.legend(loc='best',fancybox=True, shadow=True)\n",
        "plt.show()"
      ],
      "execution_count": 37,
      "outputs": [
        {
          "output_type": "stream",
          "name": "stderr",
          "text": [
            "/usr/local/lib/python3.7/dist-packages/sklearn/linear_model/_base.py:145: FutureWarning: 'normalize' was deprecated in version 1.0 and will be removed in 1.2.\n",
            "If you wish to scale the data, use Pipeline with a StandardScaler in a preprocessing stage. To reproduce the previous behavior:\n",
            "\n",
            "from sklearn.pipeline import make_pipeline\n",
            "\n",
            "model = make_pipeline(StandardScaler(with_mean=False), LinearRegression())\n",
            "\n",
            "If you wish to pass a sample_weight parameter, you need to pass it as a fit parameter to each step of the pipeline as follows:\n",
            "\n",
            "kwargs = {s[0] + '__sample_weight': sample_weight for s in model.steps}\n",
            "model.fit(X, y, **kwargs)\n",
            "\n",
            "\n",
            "  FutureWarning,\n"
          ]
        },
        {
          "output_type": "display_data",
          "data": {
            "image/png": "[encoded data removed]",
            "text/plain": [
              "<Figure size 432x288 with 1 Axes>"
            ]
          },
          "metadata": {
            "needs_background": "light"
          }
        }
      ]
    },
    {
      "cell_type": "code",
      "metadata": {
        "id": "k2P96T2tbGvN",
        "colab": {
          "base_uri": "https://localhost:8080/",
          "height": 295
        },
        "outputId": "ba57ee96-125b-42c7-ea1f-24ff44a1e1cb"
      },
      "source": [
        "plt.plot(testY_final[['Longitude_OP']],label=\"original\")\n",
        "plt.plot(pred_y[:,1],label=\"predicted\")\n",
        "plt.title(\"Longitude original vs predicted\")\n",
        "plt.xlabel(\"Observation Number\")\n",
        "plt.ylabel(\"Longitude\")\n",
        "plt.legend(loc='best',fancybox=True, shadow=True)\n",
        "plt.show()"
      ],
      "execution_count": 38,
      "outputs": [
        {
          "output_type": "display_data",
          "data": {
            "image/png": "[encoded data removed]",
            "text/plain": [
              "<Figure size 432x288 with 1 Axes>"
            ]
          },
          "metadata": {
            "needs_background": "light"
          }
        }
      ]
    },
    {
      "cell_type": "markdown",
      "metadata": {
        "id": "LuSmfQJlmBNy"
      },
      "source": [
        "Results Obtained"
      ]
    },
    {
      "cell_type": "code",
      "metadata": {
        "id": "zIr9bwMDg1ns",
        "colab": {
          "base_uri": "https://localhost:8080/"
        },
        "outputId": "723466d0-f9f6-4273-a636-a512b83175f1"
      },
      "source": [
        "print(\"MEAN DISTANCE ERROR USING POLYNOMIAL REGRESSOR (DEGREE 2): \", pred['dist_err'].mean(),\"m\")\n",
        "print(\"MAXIMUM DISTANCE ERROR USING POLYNOMIAL REGRESSOR(DEGREE 2): \", pred['dist_err'].max(),\"m\")"
      ],
      "execution_count": 39,
      "outputs": [
        {
          "output_type": "stream",
          "name": "stdout",
          "text": [
            "MEAN DISTANCE ERROR USING POLYNOMIAL REGRESSOR (DEGREE 2):  22.529960865882906 m\n",
            "MAXIMUM DISTANCE ERROR USING POLYNOMIAL REGRESSOR(DEGREE 2):  38.0 m\n"
          ]
        }
      ]
    },
    {
      "cell_type": "code",
      "metadata": {
        "id": "liT1sOHNwyi-",
        "colab": {
          "base_uri": "https://localhost:8080/"
        },
        "outputId": "ea582e0a-efd6-48c9-8aff-d3e7fe7bbc58"
      },
      "source": [
        "count = len([i for i in pred['dist_err'] if i  < 2])\n",
        "low_error = count / len(pred['dist_err']) * 100\n",
        "print(\"Percentage of data with less than 2m error : \",low_error,\"%\")"
      ],
      "execution_count": 40,
      "outputs": [
        {
          "output_type": "stream",
          "name": "stdout",
          "text": [
            "Percentage of data with less than 2m error :  0.0 %\n"
          ]
        }
      ]
    },
    {
      "cell_type": "markdown",
      "metadata": {
        "id": "2mBhtd4krRxh"
      },
      "source": [
        "###AdaBoost\n",
        "\n",
        "As Adaptive Boosting follows an ensemble approach it significantly improves the results from Linear Regressor, thus motivating us to put it to use.\n",
        "\n",
        "We created 4 models each for each AP estimating the distance of the RP from the AP."
      ]
    },
    {
      "cell_type": "markdown",
      "metadata": {
        "id": "Defq5TlStJ8N"
      },
      "source": [
        "####Distance Estimation using AdaBoost"
      ]
    },
    {
      "cell_type": "code",
      "metadata": {
        "id": "Npf0Q0fzApIe",
        "colab": {
          "base_uri": "https://localhost:8080/"
        },
        "outputId": "8d2c6aac-470c-42fd-c347-5e7ad917a0c4"
      },
      "source": [
        "from sklearn.ensemble import AdaBoostRegressor\n",
        "from sklearn.model_selection import cross_val_score, KFold\n",
        "from sklearn.metrics import mean_squared_error\n",
        "\n",
        "mm_scaler = MinMaxScaler()\n",
        "train_semiX = pd.DataFrame(mm_scaler.fit_transform(train_semi[['Latitude_AP', 'Longitude_AP', 'Channel', 'RSSI(dBm)', 'Hight Difference(m)', 'Outdoor', 'Moving Average (RSSI)', 1, 2, 3, 4]]),columns=['Latitude_AP', 'Longitude_AP', 'Channel', 'RSSI(dBm)', 'Hight Difference(m)', 'Outdoor', 'Moving Average (RSSI)', 1, 2, 3, 4])\n",
        "test_semiX = pd.DataFrame(mm_scaler.transform(test_semi[['Latitude_AP', 'Longitude_AP', 'Channel', 'RSSI(dBm)', 'Hight Difference(m)', 'Outdoor', 'Moving Average (RSSI)', 1, 2, 3, 4]]),columns=['Latitude_AP', 'Longitude_AP', 'Channel', 'RSSI(dBm)', 'Hight Difference(m)', 'Outdoor', 'Moving Average (RSSI)', 1, 2, 3, 4])\n",
        "\n",
        "ap01_dat_tr = pd.concat([train_semiX[train_semiX[1]==1],(train_semi[train_semi[1]==1])[['Distance','Latitude_OP','Longitude_OP']]],axis=1).reset_index(drop=True)\n",
        "ap02_dat_tr = pd.concat([train_semiX[train_semiX[2]==1],(train_semi[train_semi[2]==1])[['Distance','Latitude_OP','Longitude_OP']]],axis=1).reset_index(drop=True)\n",
        "ap03_dat_tr = pd.concat([train_semiX[train_semiX[3]==1],(train_semi[train_semi[3]==1])[['Distance','Latitude_OP','Longitude_OP']]],axis=1).reset_index(drop=True)\n",
        "ap04_dat_tr = pd.concat([train_semiX[train_semiX[4]==1],(train_semi[train_semi[4]==1])[['Distance','Latitude_OP','Longitude_OP']]],axis=1).reset_index(drop=True)\n",
        "ap01_dat_te = pd.concat([test_semiX[test_semiX[1]==1],(test_semi[test_semi[1]==1])[['Distance','Latitude_OP','Longitude_OP']]],axis=1).reset_index(drop=True)\n",
        "ap02_dat_te = pd.concat([test_semiX[test_semiX[2]==1],(test_semi[test_semi[2]==1])[['Distance','Latitude_OP','Longitude_OP']]],axis=1).reset_index(drop=True)\n",
        "ap03_dat_te = pd.concat([test_semiX[test_semiX[3]==1],(test_semi[test_semi[3]==1])[['Distance','Latitude_OP','Longitude_OP']]],axis=1).reset_index(drop=True)\n",
        "ap04_dat_te = pd.concat([test_semiX[test_semiX[4]==1],(test_semi[test_semi[4]==1])[['Distance','Latitude_OP','Longitude_OP']]],axis=1).reset_index(drop=True)\n",
        "ap01_datX_tr = ap01_dat_tr[['Outdoor','Moving Average (RSSI)']]\n",
        "ap01_datY_tr = ap01_dat_tr[['Distance']]\n",
        "ap02_datX_tr = ap02_dat_tr[['Outdoor','Moving Average (RSSI)']]\n",
        "ap02_datY_tr = ap02_dat_tr[['Distance']]\n",
        "ap03_datX_tr = ap03_dat_tr[['Outdoor','Moving Average (RSSI)']]\n",
        "ap03_datY_tr = ap03_dat_tr[['Distance']]\n",
        "ap04_datX_tr = ap04_dat_tr[['Outdoor','Moving Average (RSSI)']]\n",
        "ap04_datY_tr = ap04_dat_tr[['Distance']]\n",
        "ap01_datX_te = ap01_dat_te[['Outdoor','Moving Average (RSSI)']]\n",
        "ap01_datY_te = ap01_dat_te[['Distance']]\n",
        "ap02_datX_te = ap02_dat_te[['Outdoor','Moving Average (RSSI)']]\n",
        "ap02_datY_te = ap02_dat_te[['Distance']]\n",
        "ap03_datX_te = ap03_dat_te[['Outdoor','Moving Average (RSSI)']]\n",
        "ap03_datY_te = ap03_dat_te[['Distance']]\n",
        "ap04_datX_te = ap04_dat_te[['Outdoor','Moving Average (RSSI)']]\n",
        "ap04_datY_te = ap04_dat_te[['Distance']]\n",
        "polyfeat = PolynomialFeatures(degree=2)\n",
        "ap01_datX_tr = polyfeat.fit_transform(ap01_datX_tr)\n",
        "ap01_datX_te = polyfeat.transform(ap01_datX_te)\n",
        "polyfeat = PolynomialFeatures(degree=2)\n",
        "ap02_datX_tr = polyfeat.fit_transform(ap02_datX_tr)\n",
        "ap02_datX_te = polyfeat.transform(ap02_datX_te)\n",
        "polyfeat = PolynomialFeatures(degree=2)\n",
        "ap03_datX_tr = polyfeat.fit_transform(ap03_datX_tr)\n",
        "ap03_datX_te = polyfeat.transform(ap03_datX_te)\n",
        "polyfeat = PolynomialFeatures(degree=2)\n",
        "ap04_datX_tr = polyfeat.fit_transform(ap04_datX_tr)\n",
        "ap04_datX_te = polyfeat.transform(ap04_datX_te)\n",
        "\n",
        "ada_AP1 = AdaBoostRegressor(n_estimators=50)\n",
        "ada_AP1.fit(ap01_datX_tr,ap01_datY_tr)\n",
        "prediction = ada_AP1.predict(ap01_datX_te)\n",
        "prediction = prediction.reshape(-1,1)\n",
        "\n",
        "total_dist_err = []\n",
        "dist=[]\n",
        "dist=dist+list(prediction[:,0])\n",
        "\n",
        "dist_err=((ap01_datY_te-prediction)**2)**0.5\n",
        "df_error = pd.DataFrame(dist_err, columns = ['Distance Error'])\n",
        "dist_err.clip(upper=pd.Series({'Distance': 38}), axis=1,inplace=True)\n",
        "total_dist_err += list(dist_err.values)\n",
        "\n",
        "ada_AP2 = AdaBoostRegressor(n_estimators=50)\n",
        "ada_AP2.fit(ap02_datX_tr,ap02_datY_tr)\n",
        "prediction = ada_AP2.predict(ap02_datX_te)\n",
        "prediction = prediction.reshape(-1,1)\n",
        "\n",
        "dist=dist+list(prediction)\n",
        "dist_err=((ap02_datY_te-prediction)**2)**0.5\n",
        "df_error = pd.DataFrame(dist_err, columns = ['Distance Error'])\n",
        "dist_err.clip(upper=pd.Series({'Distance': 38}), axis=1,inplace=True)\n",
        "total_dist_err += list(dist_err.values)\n",
        "\n",
        "ada_AP3 = AdaBoostRegressor(n_estimators=50)\n",
        "ada_AP3.fit(ap03_datX_tr,ap03_datY_tr)\n",
        "prediction = ada_AP3.predict(ap03_datX_te)\n",
        "prediction = prediction.reshape(-1,1)\n",
        "\n",
        "dist=dist+list(prediction[:,0])\n",
        "dist_err=((ap03_datY_te-prediction)**2)**0.5\n",
        "df_error = pd.DataFrame(dist_err, columns = ['Distance Error'])\n",
        "dist_err.clip(upper=pd.Series({'Distance': 38}), axis=1,inplace=True)\n",
        "total_dist_err += list(dist_err.values)\n",
        "\n",
        "ada_AP4 = AdaBoostRegressor(n_estimators=50)\n",
        "ada_AP4.fit(ap04_datX_tr,ap04_datY_tr)\n",
        "prediction = ada_AP4.predict(ap04_datX_te)\n",
        "prediction = prediction.reshape(-1,1)\n",
        "\n",
        "dist=dist+list(prediction[:,0])\n",
        "dist_err=((ap04_datY_te-prediction)**2)**0.5\n",
        "df_error = pd.DataFrame(dist_err, columns = ['Distance Error'])\n",
        "dist_err.clip(upper=pd.Series({'Distance': 38}), axis=1,inplace=True)\n",
        "total_dist_err += list(dist_err.values)"
      ],
      "execution_count": 41,
      "outputs": [
        {
          "output_type": "stream",
          "name": "stderr",
          "text": [
            "/usr/local/lib/python3.7/dist-packages/sklearn/utils/validation.py:1679: FutureWarning: Feature names only support names that are all strings. Got feature names with dtypes: ['int', 'str']. An error will be raised in 1.2.\n",
            "  FutureWarning,\n",
            "/usr/local/lib/python3.7/dist-packages/sklearn/utils/validation.py:1679: FutureWarning: Feature names only support names that are all strings. Got feature names with dtypes: ['int', 'str']. An error will be raised in 1.2.\n",
            "  FutureWarning,\n",
            "/usr/local/lib/python3.7/dist-packages/sklearn/utils/validation.py:1679: FutureWarning: Feature names only support names that are all strings. Got feature names with dtypes: ['int', 'str']. An error will be raised in 1.2.\n",
            "  FutureWarning,\n",
            "/usr/local/lib/python3.7/dist-packages/sklearn/utils/validation.py:985: DataConversionWarning: A column-vector y was passed when a 1d array was expected. Please change the shape of y to (n_samples, ), for example using ravel().\n",
            "  y = column_or_1d(y, warn=True)\n",
            "/usr/local/lib/python3.7/dist-packages/sklearn/utils/validation.py:985: DataConversionWarning: A column-vector y was passed when a 1d array was expected. Please change the shape of y to (n_samples, ), for example using ravel().\n",
            "  y = column_or_1d(y, warn=True)\n",
            "/usr/local/lib/python3.7/dist-packages/sklearn/utils/validation.py:985: DataConversionWarning: A column-vector y was passed when a 1d array was expected. Please change the shape of y to (n_samples, ), for example using ravel().\n",
            "  y = column_or_1d(y, warn=True)\n",
            "/usr/local/lib/python3.7/dist-packages/sklearn/utils/validation.py:985: DataConversionWarning: A column-vector y was passed when a 1d array was expected. Please change the shape of y to (n_samples, ), for example using ravel().\n",
            "  y = column_or_1d(y, warn=True)\n"
          ]
        }
      ]
    },
    {
      "cell_type": "markdown",
      "metadata": {
        "id": "TjtzF--CmNn4"
      },
      "source": [
        "Results obtained"
      ]
    },
    {
      "cell_type": "code",
      "metadata": {
        "id": "esOElQT9Q5WW",
        "colab": {
          "base_uri": "https://localhost:8080/"
        },
        "outputId": "b7762b2d-cac6-4ac0-9076-7d5baedd8dad"
      },
      "source": [
        "adamean=sum(total_dist_err)/len(total_dist_err)\n",
        "adamax=max(total_dist_err)\n",
        "print(\"MEAN DISTANCE ERROR USING ADABOOST REGRESSOR: \", adamean[0],'m')\n",
        "print(\"MAXIMUM DISTANCE ERROR USING ADABOOST REGRESSOR: \",adamax[0],'m')"
      ],
      "execution_count": 42,
      "outputs": [
        {
          "output_type": "stream",
          "name": "stdout",
          "text": [
            "MEAN DISTANCE ERROR USING ADABOOST REGRESSOR:  14.175428476665237 m\n",
            "MAXIMUM DISTANCE ERROR USING ADABOOST REGRESSOR:  34.413591805764185 m\n"
          ]
        }
      ]
    },
    {
      "cell_type": "code",
      "metadata": {
        "id": "UQobP4r_u2_B",
        "colab": {
          "base_uri": "https://localhost:8080/"
        },
        "outputId": "df513708-7887-412f-bc1b-df8befbfeb5b"
      },
      "source": [
        "count = len([i for i in total_dist_err if i  < 2])\n",
        "low_error = count / len(total_dist_err) * 100\n",
        "print(\"Percentage of data with less than 2m error : \",low_error,'%')"
      ],
      "execution_count": 43,
      "outputs": [
        {
          "output_type": "stream",
          "name": "stdout",
          "text": [
            "Percentage of data with less than 2m error :  5.812897366030881 %\n"
          ]
        }
      ]
    },
    {
      "cell_type": "code",
      "metadata": {
        "id": "1vzgdwjKbK77",
        "colab": {
          "base_uri": "https://localhost:8080/",
          "height": 350
        },
        "outputId": "6412c6f1-67f1-4c5a-dee5-9b931302e52c"
      },
      "source": [
        "x_ax = range(len(dist))\n",
        "plt.plot(x_ax, testY_final['Distance'], linewidth=1, label=\"original\")\n",
        "plt.plot(x_ax, dist, linewidth=1, label=\"predicted\")\n",
        "plt.title(\"Orginal vs Predicted distance for Polynomial Regression (Deg=2)\")\n",
        "plt.ylabel('Distance')\n",
        "plt.xlabel('Observation Number')\n",
        "plt.legend(loc='best',fancybox=True, shadow=True)\n",
        "# plt.grid(True)\n",
        "plt.show() "
      ],
      "execution_count": 44,
      "outputs": [
        {
          "output_type": "stream",
          "name": "stderr",
          "text": [
            "/usr/local/lib/python3.7/dist-packages/numpy/core/_asarray.py:136: VisibleDeprecationWarning: Creating an ndarray from ragged nested sequences (which is a list-or-tuple of lists-or-tuples-or ndarrays with different lengths or shapes) is deprecated. If you meant to do this, you must specify 'dtype=object' when creating the ndarray\n",
            "  return array(a, dtype, copy=False, order=order, subok=True)\n"
          ]
        },
        {
          "output_type": "display_data",
          "data": {
            "image/png": "[encoded data removed]",
            "text/plain": [
              "<Figure size 432x288 with 1 Axes>"
            ]
          },
          "metadata": {
            "needs_background": "light"
          }
        }
      ]
    },
    {
      "cell_type": "markdown",
      "metadata": {
        "id": "9FBMb7hCtRA8"
      },
      "source": [
        "####Direct estimation of Latitude and Longitude using AdaBoost\n",
        "\n",
        "In this case we trained 8 different models for the 4 different APs.\n",
        "Two models for each AP for predicting Latitude and Longitude of the reference points/observation points respectively."
      ]
    },
    {
      "cell_type": "code",
      "metadata": {
        "id": "t6eBqLnnoIbX"
      },
      "source": [
        "ap01_datX_tr = ap01_dat_tr[['Latitude_AP','Longitude_AP','Outdoor','Moving Average (RSSI)']]\n",
        "ap01_datY_tr = ap01_dat_tr[['Latitude_OP','Longitude_OP']]\n",
        "ap02_datX_tr = ap02_dat_tr[['Latitude_AP','Longitude_AP','Outdoor','Moving Average (RSSI)']]\n",
        "ap02_datY_tr = ap02_dat_tr[['Latitude_OP','Longitude_OP']]\n",
        "ap03_datX_tr = ap03_dat_tr[['Latitude_AP','Longitude_AP','Outdoor','Moving Average (RSSI)']]\n",
        "ap03_datY_tr = ap03_dat_tr[['Latitude_OP','Longitude_OP']]\n",
        "ap04_datX_tr = ap04_dat_tr[['Latitude_AP','Longitude_AP','Outdoor','Moving Average (RSSI)']]\n",
        "ap04_datY_tr = ap04_dat_tr[['Latitude_OP','Longitude_OP']]\n",
        "ap01_datX_te = ap01_dat_te[['Latitude_AP','Longitude_AP','Outdoor','Moving Average (RSSI)']]\n",
        "ap01_datY_te = ap01_dat_te[['Latitude_OP','Longitude_OP']]\n",
        "ap02_datX_te = ap02_dat_te[['Latitude_AP','Longitude_AP','Outdoor','Moving Average (RSSI)']]\n",
        "ap02_datY_te = ap02_dat_te[['Latitude_OP','Longitude_OP']]\n",
        "ap03_datX_te = ap03_dat_te[['Latitude_AP','Longitude_AP','Outdoor','Moving Average (RSSI)']]\n",
        "ap03_datY_te = ap03_dat_te[['Latitude_OP','Longitude_OP']]\n",
        "ap04_datX_te = ap04_dat_te[['Latitude_AP','Longitude_AP','Outdoor','Moving Average (RSSI)']]\n",
        "ap04_datY_te = ap04_dat_te[['Latitude_OP','Longitude_OP']]\n",
        "\n",
        "ada_AP1_Lat = AdaBoostRegressor(n_estimators=25)\n",
        "ada_AP1_Lat.fit(ap01_datX_tr,ap01_datY_tr['Latitude_OP'])\n",
        "prediction1_Lat = ada_AP1_Lat.predict(ap01_datX_te)\n",
        "prediction1_Lat = pd.DataFrame(prediction1_Lat.reshape(-1,1),columns=['Latitude'])\n",
        "ada_AP1_Lon = AdaBoostRegressor(n_estimators=25)\n",
        "ada_AP1_Lon.fit(ap01_datX_tr,ap01_datY_tr['Longitude_OP'])\n",
        "prediction1_Lon = ada_AP1_Lon.predict(ap01_datX_te)\n",
        "prediction1_Lon = pd.DataFrame(prediction1_Lon.reshape(-1,1),columns=['Longitude'])\n",
        "\n",
        "total_dist_err = []\n",
        "pred1 = pd.concat([prediction1_Lat,prediction1_Lon],axis=1)\n",
        "pred['dist_err'] = (((pred1['Latitude']-ap01_datY_tr['Latitude_OP'])*111000)**2 + (((pred1['Longitude']-ap01_datY_tr['Longitude_OP'])*111000)**2))**0.5\n",
        "pred.clip(upper=pd.Series({'dist_err': 38}), axis=1,inplace=True)\n",
        "total_dist_err += list(dist_err.values)\n",
        "\n",
        "ada_AP2_Lat = AdaBoostRegressor(n_estimators=25)\n",
        "ada_AP2_Lat.fit(ap02_datX_tr,ap02_datY_tr['Latitude_OP'])\n",
        "prediction2_Lat = ada_AP2_Lat.predict(ap02_datX_te)\n",
        "prediction2_Lat = pd.DataFrame(prediction2_Lat.reshape(-1,1),columns=['Latitude'])\n",
        "ada_AP2_Lon = AdaBoostRegressor(n_estimators=25)\n",
        "ada_AP2_Lon.fit(ap02_datX_tr,ap01_datY_tr['Longitude_OP'])\n",
        "prediction2_Lon = ada_AP2_Lon.predict(ap02_datX_te)\n",
        "prediction2_Lon = pd.DataFrame(prediction2_Lon.reshape(-1,1),columns=['Longitude'])\n",
        "\n",
        "pred2 = pd.concat([prediction2_Lat,prediction2_Lon],axis=1)\n",
        "pred['dist_err'] = (((pred2['Latitude']-ap02_datY_tr['Latitude_OP'])*111000)**2 + (((pred2['Longitude']-ap02_datY_tr['Longitude_OP'])*111000)**2))**0.5\n",
        "pred.clip(upper=pd.Series({'dist_err': 38}), axis=1,inplace=True)\n",
        "total_dist_err += list(dist_err.values)\n",
        "\n",
        "ada_AP3_Lat = AdaBoostRegressor(n_estimators=25)\n",
        "ada_AP3_Lat.fit(ap03_datX_tr,ap03_datY_tr['Latitude_OP'])\n",
        "prediction3_Lat = ada_AP3_Lat.predict(ap03_datX_te)\n",
        "prediction3_Lat = pd.DataFrame(prediction3_Lat.reshape(-1,1),columns=['Latitude'])\n",
        "ada_AP3_Lon = AdaBoostRegressor(n_estimators=25)\n",
        "ada_AP3_Lon.fit(ap03_datX_tr,ap03_datY_tr['Longitude_OP'])\n",
        "prediction3_Lon = ada_AP3_Lon.predict(ap03_datX_te)\n",
        "prediction3_Lon = pd.DataFrame(prediction3_Lon.reshape(-1,1),columns=['Longitude'])\n",
        "\n",
        "pred3 = pd.concat([prediction3_Lat,prediction3_Lon],axis=1)\n",
        "pred['dist_err'] = (((pred3['Latitude']-ap03_datY_tr['Latitude_OP'])*111000)**2 + (((pred3['Longitude']-ap03_datY_tr['Longitude_OP'])*111000)**2))**0.5\n",
        "pred.clip(upper=pd.Series({'dist_err': 38}), axis=1,inplace=True)\n",
        "total_dist_err += list(dist_err.values)\n",
        "\n",
        "ada_AP4_Lat = AdaBoostRegressor(n_estimators=25)\n",
        "ada_AP4_Lat.fit(ap04_datX_tr,ap04_datY_tr['Latitude_OP'])\n",
        "prediction4_Lat = ada_AP4_Lat.predict(ap04_datX_te)\n",
        "prediction4_Lat = pd.DataFrame(prediction4_Lat.reshape(-1,1),columns=['Latitude'])\n",
        "ada_AP4_Lon = AdaBoostRegressor(n_estimators=25)\n",
        "ada_AP4_Lon.fit(ap04_datX_tr,ap04_datY_tr['Longitude_OP'])\n",
        "prediction4_Lon = ada_AP4_Lon.predict(ap04_datX_te)\n",
        "prediction4_Lon = pd.DataFrame(prediction4_Lon.reshape(-1,1),columns=['Longitude'])\n",
        "\n",
        "pred4 = pd.concat([prediction4_Lat,prediction4_Lon],axis=1)\n",
        "pred['dist_err'] = (((pred4['Latitude']-ap04_datY_tr['Latitude_OP'])*111000)**2 + (((pred4['Longitude']-ap04_datY_tr['Longitude_OP'])*111000)**2))**0.5\n",
        "pred.clip(upper=pd.Series({'dist_err': 38}), axis=1,inplace=True)\n",
        "total_dist_err += list(dist_err.values)"
      ],
      "execution_count": 45,
      "outputs": []
    },
    {
      "cell_type": "markdown",
      "metadata": {
        "id": "sck4QtLkkpZL"
      },
      "source": [
        "Results obtained"
      ]
    },
    {
      "cell_type": "code",
      "metadata": {
        "id": "1GQmcI_Oe0_5",
        "colab": {
          "base_uri": "https://localhost:8080/"
        },
        "outputId": "0b86c840-99f6-4507-e910-8e7ef65d516a"
      },
      "source": [
        "adamean=sum(total_dist_err)/len(total_dist_err)\n",
        "adamax=max(total_dist_err)\n",
        "print(\"MEAN DISTANCE ERROR USING ADABOOST REGRESSOR: \", adamean[0],'m')\n",
        "print(\"MAXIMUM DISTANCE ERROR USING ADABOOST REGRESSOR: \",adamax[0],'m')"
      ],
      "execution_count": 46,
      "outputs": [
        {
          "output_type": "stream",
          "name": "stdout",
          "text": [
            "MEAN DISTANCE ERROR USING ADABOOST REGRESSOR:  12.979052804546736 m\n",
            "MAXIMUM DISTANCE ERROR USING ADABOOST REGRESSOR:  26.991121482947385 m\n"
          ]
        }
      ]
    },
    {
      "cell_type": "code",
      "metadata": {
        "id": "RLW_PO_7mdEl",
        "colab": {
          "base_uri": "https://localhost:8080/"
        },
        "outputId": "b1cfe881-f7eb-4287-f233-44e0f1a3ed0b"
      },
      "source": [
        "count = len([i for i in total_dist_err if i  < 2])\n",
        "low_error = count / len(total_dist_err) * 100\n",
        "print(\"Percentage of data with less than 2m error : \",low_error,'%')"
      ],
      "execution_count": 47,
      "outputs": [
        {
          "output_type": "stream",
          "name": "stdout",
          "text": [
            "Percentage of data with less than 2m error :  15.636363636363637 %\n"
          ]
        }
      ]
    },
    {
      "cell_type": "markdown",
      "metadata": {
        "id": "SI4ibXg8roXy"
      },
      "source": [
        "### 2. RSSI Fingerprinting\n",
        "\n",
        "Fingerprinting of RSSI gives us a map of the RSSI throughout the area of inspection, it is effective for both indoor and outdoor experimental conditions. However, many data points uniformly spread throughout the area, gives the model a better understanding, which is not available in this scenario.\n",
        "\n",
        "### KNN - Regressor\n",
        "\n",
        "We have used KNN regressor to predict reference point locations using the concept of RSSI Fingerprinting."
      ]
    },
    {
      "cell_type": "code",
      "metadata": {
        "id": "ft_uMU2zdpiO",
        "colab": {
          "base_uri": "https://localhost:8080/"
        },
        "outputId": "4b7f60f8-60cb-497e-9259-721a2a18c318"
      },
      "source": [
        "from sklearn import neighbors\n",
        "from sklearn.metrics import mean_squared_error \n",
        "from math import sqrt\n",
        "import matplotlib.pyplot as plt\n",
        "%matplotlib inline\n",
        "\n",
        "rmse_val = [] #to store rmse values for different k\n",
        "for K in range(13):\n",
        "    K = K+1\n",
        "    model = neighbors.KNeighborsRegressor(n_neighbors = K)\n",
        "\n",
        "    model.fit(newtrain_X, trainY_final[['Latitude_OP','Longitude_OP']])  #fit the model\n",
        "    pred=model.predict(newtest_X) #make prediction on test set\n",
        "    error = sqrt(mean_squared_error(testY_final[['Latitude_OP','Longitude_OP']],pred)) #calculate rmse\n",
        "    rmse_val.append(error) #store rmse values\n",
        "    print('RMSE value for k= ' , K , 'is:', error)"
      ],
      "execution_count": 48,
      "outputs": [
        {
          "output_type": "stream",
          "name": "stdout",
          "text": [
            "RMSE value for k=  1 is: 0.00014264030700196525\n",
            "RMSE value for k=  2 is: 0.0001349883207070322\n",
            "RMSE value for k=  3 is: 0.00013347786765541687\n",
            "RMSE value for k=  4 is: 0.00013596747987660657\n",
            "RMSE value for k=  5 is: 0.0001352648427235548\n",
            "RMSE value for k=  6 is: 0.0001351045857036459\n",
            "RMSE value for k=  7 is: 0.0001342199386390155\n",
            "RMSE value for k=  8 is: 0.00013576804535908075\n",
            "RMSE value for k=  9 is: 0.0001366785072172612\n",
            "RMSE value for k=  10 is: 0.00013611592275921666\n",
            "RMSE value for k=  11 is: 0.00013672408536584632\n",
            "RMSE value for k=  12 is: 0.00013615789458791352\n",
            "RMSE value for k=  13 is: 0.00013672629676039693\n"
          ]
        }
      ]
    },
    {
      "cell_type": "code",
      "metadata": {
        "id": "2DH7ytXimluq",
        "colab": {
          "base_uri": "https://localhost:8080/",
          "height": 282
        },
        "outputId": "d880ee8a-a9df-4929-b63f-00d411cb33c4"
      },
      "source": [
        "#plotting the rmse values against k values\n",
        "curve = pd.DataFrame(rmse_val) #elbow curve \n",
        "curve.plot()"
      ],
      "execution_count": 49,
      "outputs": [
        {
          "output_type": "execute_result",
          "data": {
            "text/plain": [
              "<matplotlib.axes._subplots.AxesSubplot at 0x7fa7457a4790>"
            ]
          },
          "metadata": {},
          "execution_count": 49
        },
        {
          "output_type": "display_data",
          "data": {
            "image/png": "[encoded data removed]",
            "text/plain": [
              "<Figure size 432x288 with 1 Axes>"
            ]
          },
          "metadata": {
            "needs_background": "light"
          }
        }
      ]
    },
    {
      "cell_type": "code",
      "metadata": {
        "id": "p11Da7-QnQHu",
        "colab": {
          "base_uri": "https://localhost:8080/",
          "height": 295
        },
        "outputId": "3e31550b-b2b4-4e4f-af62-0c5a618153f7"
      },
      "source": [
        "model = neighbors.KNeighborsRegressor(n_neighbors = 3)\n",
        "model.fit(newtrain_X, trainY_final[['Latitude_OP','Longitude_OP']])  #fit the model\n",
        "pred_knn=model.predict(newtest_X) #make prediction on test set\n",
        "\n",
        "x_ax = range(len(testY_final[['Latitude_OP']]))\n",
        "plt.plot(x_ax, testY_final[['Latitude_OP']], linewidth=1, label=\"original\")\n",
        "plt.plot(x_ax, pred_knn[:,0], linewidth=1.1, label=\"predicted\")\n",
        "plt.title(\"KNN 3- neighbours\")\n",
        "plt.xlabel('X-axis')\n",
        "plt.ylabel('Y-axis')\n",
        "plt.legend(loc='best',fancybox=True, shadow=True)\n",
        "plt.grid(True)\n",
        "plt.show() "
      ],
      "execution_count": 50,
      "outputs": [
        {
          "output_type": "display_data",
          "data": {
            "image/png": "[encoded data removed]",
            "text/plain": [
              "<Figure size 432x288 with 1 Axes>"
            ]
          },
          "metadata": {
            "needs_background": "light"
          }
        }
      ]
    },
    {
      "cell_type": "code",
      "metadata": {
        "id": "eqH9EPOGn2Q3",
        "colab": {
          "base_uri": "https://localhost:8080/",
          "height": 295
        },
        "outputId": "ead1de33-324b-4676-d9e2-0572e6256989"
      },
      "source": [
        "x_ax = range(len(testY_final[['Longitude_OP']]))\n",
        "plt.plot(x_ax, testY_final[['Longitude_OP']], linewidth=1, label=\"original\")\n",
        "plt.plot(x_ax, pred_knn[:,1], linewidth=1.1, label=\"predicted\")\n",
        "plt.title(\"KNN 3- neighbours\")\n",
        "plt.xlabel('X-axis')\n",
        "plt.ylabel('Y-axis')\n",
        "plt.legend(loc='best',fancybox=True, shadow=True)\n",
        "plt.grid(True)\n",
        "plt.show() "
      ],
      "execution_count": 51,
      "outputs": [
        {
          "output_type": "display_data",
          "data": {
            "image/png": "[encoded data removed]",
            "text/plain": [
              "<Figure size 432x288 with 1 Axes>"
            ]
          },
          "metadata": {
            "needs_background": "light"
          }
        }
      ]
    },
    {
      "cell_type": "code",
      "metadata": {
        "id": "VMdH2Mycn_kX",
        "colab": {
          "base_uri": "https://localhost:8080/",
          "height": 295
        },
        "outputId": "2ef55b2f-7736-4516-a2ad-d77bf91ea8f6"
      },
      "source": [
        "pred = pd.DataFrame(pred_knn, columns = ['Latitude','Longitude'])\n",
        "pred['dist_err'] = (((pred['Latitude']-testY_final['Latitude_OP'])*111000)**2 + (((pred['Longitude']-testY_final['Longitude_OP'])*111000)**2))**0.5\n",
        "pred['distance'] = (((pred['Latitude']-test_semi['Latitude_AP'])*111000)**2 + (((pred['Longitude']-test_semi['Longitude_AP'])*111000)**2))**0.5\n",
        "x_ax = range(len(test_semi['Distance']))\n",
        "plt.plot(x_ax, test_semi['Distance'], linewidth=1, label=\"original\")\n",
        "plt.plot(x_ax, pred['distance'], linewidth=1.1, label=\"predicted\")\n",
        "plt.title(\"Original vs Predicted distance for KNN Regressor\")\n",
        "plt.xlabel('Observation Number')\n",
        "plt.ylabel('Distance')\n",
        "plt.legend(loc='best',fancybox=True, shadow=True)\n",
        "plt.show() "
      ],
      "execution_count": 52,
      "outputs": [
        {
          "output_type": "display_data",
          "data": {
            "image/png": "[encoded data removed]",
            "text/plain": [
              "<Figure size 432x288 with 1 Axes>"
            ]
          },
          "metadata": {
            "needs_background": "light"
          }
        }
      ]
    },
    {
      "cell_type": "code",
      "metadata": {
        "id": "YUKe5QbBXyyI"
      },
      "source": [
        "pred.clip(upper=pd.Series({'dist_err': 38}), axis=1,inplace=True)"
      ],
      "execution_count": 53,
      "outputs": []
    },
    {
      "cell_type": "markdown",
      "metadata": {
        "id": "7NH6uwDDlCPT"
      },
      "source": [
        "Results"
      ]
    },
    {
      "cell_type": "code",
      "metadata": {
        "id": "gNorICFWgdb7",
        "colab": {
          "base_uri": "https://localhost:8080/"
        },
        "outputId": "78919385-e1ea-43a6-db31-58b5eed681b6"
      },
      "source": [
        "knnmean=pred['dist_err'].mean()\n",
        "knnmax=pred['dist_err'].max()\n",
        "print(\"MEAN DISTANCE ERROR USING KNN REGRESSOR: \", knnmean,'m')\n",
        "print(\"MAXIMUM DISTANCE ERROR USING KNN REGRESSOR: \",knnmax,'m')"
      ],
      "execution_count": 54,
      "outputs": [
        {
          "output_type": "stream",
          "name": "stdout",
          "text": [
            "MEAN DISTANCE ERROR USING KNN REGRESSOR:  19.224908935684294 m\n",
            "MAXIMUM DISTANCE ERROR USING KNN REGRESSOR:  38.0 m\n"
          ]
        }
      ]
    },
    {
      "cell_type": "code",
      "metadata": {
        "id": "SSY1snXmvv9H",
        "colab": {
          "base_uri": "https://localhost:8080/"
        },
        "outputId": "626dcd94-b59f-449f-9c57-0625b408ede6"
      },
      "source": [
        "count = len([i for i in pred['dist_err'] if i  < 2])\n",
        "low_error = count / len(pred['dist_err']) * 100\n",
        "print(\"Percentage of data with less than 2m error : \",low_error,'%')"
      ],
      "execution_count": 55,
      "outputs": [
        {
          "output_type": "stream",
          "name": "stdout",
          "text": [
            "Percentage of data with less than 2m error :  0.0 %\n"
          ]
        }
      ]
    },
    {
      "cell_type": "markdown",
      "metadata": {
        "id": "azh4uTEOr-ZG"
      },
      "source": [
        "##Summary\n",
        "\n",
        "We discovered that the data set downloaded was in relatively clean state and therefore we did not have to clean up the data. However, feature engineering was required to come to the conclusions regarding the data. \n",
        "\n",
        "Since the number of Reference point in the training dataset is limited to 13, and is not uniformly distributed over the localisation area, satisfactory results could not be obtained using RSSI fingerprinting technique.\n",
        "\n",
        "Moreover as RSSI values at the same time instant were sometimes available to 3, sometimes to 4 - estimating the location from multilateration was not possible.\n",
        "\n",
        "The best result was achieved using AdaBoost Regressor.\n"
      ]
    },
    {
      "cell_type": "markdown",
      "metadata": {
        "id": "B_V-Xj2xgU7Q"
      },
      "source": [
        "## Challenges of using RSSI in Practical Scenario:\n",
        "\n",
        "RSSI values are highly sensitive to changes in the environment and they vary rapidly, reducing its reliability.\n",
        "\n",
        "One study by Parameswaran et al. illustrates the same unreliability -\n",
        "\n",
        "When RSSI was measured from the North of an AP the RSSI vs distance plot obtained is illustrated below:\n",
        "\n",
        "![picture](https://drive.google.com/uc?export=view&id=1qNSJSlHc3YwT3Z36jCHXKiw8SVN6oE4T)\n",
        "\n",
        "The same AP when measuring RSSI from the east yielded this RSSI vs distance plot:\n",
        "\n",
        "\n",
        "![picture](https://drive.google.com/uc?export=view&id=1Sapha1-WAIaVeyihs9S4a7sVap3ptlqj)\n",
        "\n",
        "This clearly illustrates the unreliability of RSSI when using it for localization."
      ]
    },
    {
      "cell_type": "markdown",
      "metadata": {
        "id": "KqFkQL2dsw9N"
      },
      "source": [
        "## Future aspects for improvement\n",
        "\n",
        "- Use of Link Quality Index, Time of Arrival and Angle of Arrival can be done instead of RSSI for more robust localiztion results, as these parameters are not so heavily influenced by the environment as RSSI.\n",
        "\n",
        "\n",
        "- Filters such as Kalman Filter and Gaussian Filter can be applied to the data if the data collected is in the form of a Time-Series with changes in Latitude and Longitude. \n",
        "\n",
        "- More number of reference points in the data provided would significantly improve the performance of the models."
      ]
    },
    {
      "cell_type": "markdown",
      "metadata": {
        "id": "TGW7u0naspvV"
      },
      "source": [
        "## References\n",
        "\n",
        "- Shen, Y., Hwang, B. and Jeong, J.P., 2020. Particle Filtering-Based Indoor Positioning System for Beacon Tag Tracking. IEEE Access, 8, pp.226445-226460.\n",
        "- Li, G., Geng, E., Ye, Z., Xu, Y., Lin, J. and Pang, Y., 2018. Indoor positioning algorithm based on the improved RSSI distance model. Sensors, 18(9), p.2820.\n",
        "- Bullmann, M., Fetzer, T., Ebner, F., Ebner, M., Deinzer, F. and Grzegorzek, M., 2020. Comparison of 2.4 GHz WiFi FTM-and RSSI-based indoor positioning methods in realistic scenarios. Sensors, 20(16), p.4515.\n",
        "- Sung, Y., 2016. RSSI-based distance estimation framework using a Kalman filter for sustainable indoor computing environments. Sustainability, 8(11), p.1136.\n",
        "- Parameswaran, A.T., Husain, M.I. and Upadhyaya, S., 2009, September. Is rssi a reliable parameter in sensor localization algorithms: An experimental study. In Field failure data analysis workshop (F2DA09) (Vol. 5). IEEE.\n",
        "Li, G., Geng, E., Ye, Z., Xu, Y., Lin, J., Pang, Y.: Indoor Positioning Algorithm Based on the Improved RSSI Distance Model. Sensors. 18, 2820 (2018).\n",
        "- Kraus and Fleisch, Electromagnetics, 5th Ed., McGraw-Hill, 1999\n",
        "Navarro, E., Peuker, B., Quan, M., Clark, A.C. and Jipson, J., 2010. Wi-fi localization using RSSI fingerprinting (Doctoral dissertation, California Polytechnic State University).\n",
        "- Chan, S. and Sohn, G., 2012. Indoor localization using wi-fi based fingerprinting and trilateration techiques for lbs applications. International Archives of the Photogrammetry, Remote Sensing and Spatial Information Sciences, 38(4), p.C26.\n",
        "- Choraś, Ryszard S. (2010). [Advances in Intelligent and Soft Computing] Image Processing and Communications Challenges 2 Volume 84 || Evaluation of Smoothing Algorithms for a RSSI-Based Device-Free Passive Localisation. , 10.1007/978-3-642-16295-4(Chapter 52), 469–476. doi:10.1007/978-3-642-16295-4_52\n",
        "\n"
      ]
    }
  ]
}